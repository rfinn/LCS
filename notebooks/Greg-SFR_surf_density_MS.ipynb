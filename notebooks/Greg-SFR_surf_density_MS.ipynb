{
 "cells": [
  {
   "cell_type": "markdown",
   "metadata": {},
   "source": [
    "# SFR-Stellar Mass-Size Paper\n",
    "\n",
    "These is the notebook for the MS-paper\n"
   ]
  },
  {
   "cell_type": "code",
   "execution_count": 1,
   "metadata": {
    "collapsed": true
   },
   "outputs": [],
   "source": [
    "import numpy as np\n",
    "from pylab import *\n",
    "%matplotlib inline\n",
    "import warnings\n",
    "warnings.filterwarnings('ignore')"
   ]
  },
  {
   "cell_type": "markdown",
   "metadata": {},
   "source": [
    "## Stellar Mass limit\n",
    "\n",
    "We need to decide what our stellar mass limit will be.  We need to think about this because at a given absolute magnitude limit, the lowest SFR objects will have the highest $M_*/L$ and hence the highest $M_*$.  Converseley at a fixed $M_*$ cut, the lowest SFR objects will be the faintest.  So, if we make our $M_*$ cut too low, objects with low SFR will fall below our detection limit.\n",
    "\n",
    "Could cause a bias such that we miss the most suppressed SF-galaxies, or those with the smallest 24um disks?"
   ]
  },
  {
   "cell_type": "code",
   "execution_count": 12,
   "metadata": {
    "collapsed": false
   },
   "outputs": [
    {
     "name": "stdout",
     "output_type": "stream",
     "text": [
      "normalizing by radius of disk\n"
     ]
    },
    {
     "name": "stderr",
     "output_type": "stream",
     "text": [
      "/Users/grudnick/github/LCS/python/Python3/LCSbase.py:78: RuntimeWarning: invalid value encountered in true_divide\n",
      "  self.AGNKAUFF= ((np.log10(self.s.O3FLUX/self.s.HBFLUX) > (.61/(np.log10(self.s.N2FLUX/self.s.HAFLUX)-.05)+1.3)) | (np.log10(self.s.N2FLUX/self.s.HAFLUX) > 0.)) #& (self.s.HAEW > 0.)\n",
      "/Users/grudnick/github/LCS/python/Python3/LCSbase.py:78: RuntimeWarning: invalid value encountered in log10\n",
      "  self.AGNKAUFF= ((np.log10(self.s.O3FLUX/self.s.HBFLUX) > (.61/(np.log10(self.s.N2FLUX/self.s.HAFLUX)-.05)+1.3)) | (np.log10(self.s.N2FLUX/self.s.HAFLUX) > 0.)) #& (self.s.HAEW > 0.)\n",
      "/Users/grudnick/github/LCS/python/Python3/LCSbase.py:78: RuntimeWarning: invalid value encountered in greater\n",
      "  self.AGNKAUFF= ((np.log10(self.s.O3FLUX/self.s.HBFLUX) > (.61/(np.log10(self.s.N2FLUX/self.s.HAFLUX)-.05)+1.3)) | (np.log10(self.s.N2FLUX/self.s.HAFLUX) > 0.)) #& (self.s.HAEW > 0.)\n",
      "/Users/grudnick/github/LCS/python/Python3/LCSbase.py:88: RuntimeWarning: divide by zero encountered in log10\n",
      "  self.sb_obs[flag]=self.s.fcmag1[flag] + 2.5*np.log10(np.pi*((self.s.fcre1[flag]*mipspixelscale)**2)*self.s.fcaxisratio1[flag])\n",
      "/Users/grudnick/github/LCS/python/Python3/LCSbase.py:104: RuntimeWarning: divide by zero encountered in true_divide\n",
      "  self.galfitflag = (self.s.fcmag1 > .1)  & ~self.nerrorflag & (self.sb_obs < 20.) & (self.s.fcre1/self.s.fcre1err > .5)#20.)\n",
      "/Users/grudnick/github/LCS/python/Python3/LCSbase.py:104: RuntimeWarning: invalid value encountered in true_divide\n",
      "  self.galfitflag = (self.s.fcmag1 > .1)  & ~self.nerrorflag & (self.sb_obs < 20.) & (self.s.fcre1/self.s.fcre1err > .5)#20.)\n",
      "/Users/grudnick/github/LCS/python/Python3/LCSbase.py:104: RuntimeWarning: invalid value encountered in greater\n",
      "  self.galfitflag = (self.s.fcmag1 > .1)  & ~self.nerrorflag & (self.sb_obs < 20.) & (self.s.fcre1/self.s.fcre1err > .5)#20.)\n"
     ]
    },
    {
     "name": "stdout",
     "output_type": "stream",
     "text": [
      "(1800, 1800)\n"
     ]
    },
    {
     "name": "stderr",
     "output_type": "stream",
     "text": [
      "/Users/grudnick/github/LCS/python/Python3/LCSbase.py:141: RuntimeWarning: divide by zero encountered in log10\n",
      "  self.sb_obs[flag]=self.s.fcmag1[flag] + 2.5*np.log10(np.pi*((self.s.fcre1[flag]*mipspixelscale)**2)*self.s.fcaxisratio1[flag])\n",
      "/Users/grudnick/github/LCS/python/Python3/LCSbase.py:153: RuntimeWarning: invalid value encountered in greater\n",
      "  self.HIflag = self.s.HIMASS > 0.\n"
     ]
    }
   ],
   "source": [
    "run ~/github/LCS/python/Python3/LCS_MSpaper.py"
   ]
  },
  {
   "cell_type": "code",
   "execution_count": 14,
   "metadata": {
    "collapsed": false
   },
   "outputs": [],
   "source": [
    "g.plotSFRStellarmassall()\n",
    "g.plotelbaz()"
   ]
  },
  {
   "cell_type": "markdown",
   "metadata": {},
   "source": [
    "This shows the SFR-$M_*$ distribution for all galaxies that are not AGN.  The red galaxies are those in our final sample.  It seems that making a cut at log($M_*$)>9.5 excludes galaxies at the bottom of the main sequence.  The diagonal lines are from Elbaz.  "
   ]
  },
  {
   "cell_type": "code",
   "execution_count": null,
   "metadata": {
    "collapsed": true
   },
   "outputs": [],
   "source": []
  }
 ],
 "metadata": {
  "anaconda-cloud": {},
  "kernelspec": {
   "display_name": "Python [conda env:astroconda]",
   "language": "python",
   "name": "conda-env-astroconda-py"
  },
  "language_info": {
   "codemirror_mode": {
    "name": "ipython",
    "version": 3
   },
   "file_extension": ".py",
   "mimetype": "text/x-python",
   "name": "python",
   "nbconvert_exporter": "python",
   "pygments_lexer": "ipython3",
   "version": "3.5.2"
  }
 },
 "nbformat": 4,
 "nbformat_minor": 1
}
