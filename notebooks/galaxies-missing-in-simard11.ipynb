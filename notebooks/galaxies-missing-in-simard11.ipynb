{
 "cells": [
  {
   "cell_type": "markdown",
   "metadata": {},
   "source": [
    "# Galaxies that are missing from Simard+2011#\n",
    "\n",
    "\n",
    "**Summary**\n",
    "* A total of 44 galaxies are not in galfit sample\n",
    "* 31/44 are not in the SDSS catalog, so these would not have been targeted by Simard+2011\n",
    "* this is not true because simard drew from phot catalog.  Need to check all.\n",
    "* 1 arcmin cutouts show: 5 have a bright star overlapping or nearby the galaxy, 2\n",
    "have a close companion.\n",
    "* 69538 has problem with NSA coords\n",
    "* 68342 - not in DR7 for some reason\n",
    "\n",
    "By galaxy:\n",
    "\n",
    "* NSAID 70630 (202.306824,  11.275839)\n",
    "    * STATIONARY BAD_MOVING_FIT BINNED1 INTERP COSMIC_RAY CHILD\n",
    "    * r = 13.87 (too bright)\n",
    "    \n",
    "* NSAID 70685 (202.269455,  12.238585)\n",
    "    * DEBLENDED_AT_EDGE STATIONARY MOVED BINNED1 DEBLENDED_AS_PSF INTERP CHILD, \n",
    "    * affected by point source that is offset from center of galaxy.  might a foreground star.\n",
    "    * (blended)\n",
    "    \n",
    "* NSAID 43712 (244.129181,  35.708172)\n",
    "    * BINNED1 INTERP COSMIC_RAY CHILD\n",
    "    * r = 13.66 (too bright)\n",
    "\n",
    "* NSAID 69538 (244.060699,  34.258434)\n",
    "    * NSA has problem with coords, chose nearby pt source rather than galaxy\n",
    "    * STATIONARY BINNED1 INTERP COSMIC_RAY CHILD\n",
    "    * r = 18.83 (too faint)\n",
    "  \n",
    "* NSAID 18158 (219.578888,   3.639615)\n",
    "    * PSF_FLUX_INTERP INTERP_CENTER BAD_MOVING_FIT BINNED1 NOTCHECKED SATURATED INTERP COSMIC_RAY CHILD\n",
    "    * r = 15.31, ext_r = 0.11\n",
    "    * (not sure)\n",
    "\n",
    "* NSAID 68283 (242.047577,  24.507439)\n",
    "    * not in dr7?\n",
    "    \n",
    "* NSAID 68286 (241.749313,  24.160772)\n",
    "    * STATIONARY MOVED BINNED1 INTERP COSMIC_RAY NOPETRO NODEBLEND CHILD BLENDED PrimTarget\n",
    "    * r = 17.66, ext_r = 0.2 (too faint)\n",
    "    \n",
    "* NSAID 68299 (240.918945,  24.602676)\n",
    "    * STATIONARY BINNED1 INTERP COSMIC_RAY CHILD\n",
    "    * r = 15.4, ext_r = 0.2\n",
    "    * (not sure) why this is not in simard\n",
    "    \n",
    "* NSAID 68342 (241.297867,  24.960102)\n",
    "    * does not come up under dr7 search.  get nearby object instead\n",
    "    \n",
    "* NSAID 113068 (175.995667,  20.077011)\n",
    "    * STATIONARY MOVED BINNED1 INTERP COSMIC_RAY CHILD\n",
    "    * r = 13.74, ext_r = 0.06 (too bright)\n",
    "\n",
    "* NSAID 72631 (230.999481,   8.508963)\n",
    "    * MAYBE_CR BAD_MOVING_FIT MOVED BINNED1 INTERP CHILD\n",
    "    * Type probably not 3 \n",
    "    * r = 16.98, ext_r = 0.1\n",
    "\n",
    "* NSAID 103927 (194.490204,  27.443319)\n",
    "    * STATIONARY BINNED1 INTERP CHILD\n",
    "    * r = 17.64, ext_r = 0.02 (maybe petro r is too faint?)\n",
    "    * (too faint?)\n",
    "\n",
    "* NSAID 103966 (194.025421,  27.677467)\n",
    "    * DEBLEND_DEGENERATE BAD_MOVING_FIT MOVED BINNED1 INTERP COSMIC_RAY NODEBLEND CHILD BLENDED\n",
    "    * r = 15.13, ext_r = 0.02\n",
    "    * (not sure) why this isn't in simard\n"
   ]
  },
  {
   "cell_type": "code",
   "execution_count": 178,
   "metadata": {
    "collapsed": false
   },
   "outputs": [
    {
     "name": "stdout",
     "output_type": "stream",
     "text": [
      "normalizing by radius of disk\n",
      "%%%%%%%%%%%%%%%%%%%%%%%%%%\n",
      "%%%%%%%%%%%%%%%%%%%%%%%%%%\n",
      "%%%%%%%%%%%%%%%%%%%%%%%%%%\n",
      "\n",
      " prefix = \n",
      "all\n",
      "%%%%%%%%%%%%%%%%%%%%%%%%%%\n",
      "%%%%%%%%%%%%%%%%%%%%%%%%%%\n",
      "%%%%%%%%%%%%%%%%%%%%%%%%%%\n"
     ]
    },
    {
     "name": "stderr",
     "output_type": "stream",
     "text": [
      "/Users/rfinn/Dropbox/pythonCode/LCSanalyzeblue.py:382: RuntimeWarning: invalid value encountered in divide\n",
      "  self.AGNSTASIN=self.s['AGNSTASIN']& (self.s.HAEW > 0.)\n",
      "/Users/rfinn/Dropbox/pythonCode/LCSanalyzeblue.py:382: RuntimeWarning: invalid value encountered in log10\n",
      "  self.AGNSTASIN=self.s['AGNSTASIN']& (self.s.HAEW > 0.)\n",
      "/Users/rfinn/Dropbox/pythonCode/LCSanalyzeblue.py:382: RuntimeWarning: invalid value encountered in greater\n",
      "  self.AGNSTASIN=self.s['AGNSTASIN']& (self.s.HAEW > 0.)\n",
      "/Users/rfinn/Dropbox/pythonCode/LCSanalyzeblue.py:384: RuntimeWarning: invalid value encountered in divide\n",
      "  self.fcnumerical_error_flag24=self.s['fcnumerical_error_flag24']\n",
      "/Users/rfinn/Dropbox/pythonCode/LCSanalyzeblue.py:384: RuntimeWarning: invalid value encountered in log10\n",
      "  self.fcnumerical_error_flag24=self.s['fcnumerical_error_flag24']\n",
      "/Users/rfinn/Dropbox/pythonCode/LCSanalyzeblue.py:384: RuntimeWarning: invalid value encountered in greater\n",
      "  self.fcnumerical_error_flag24=self.s['fcnumerical_error_flag24']\n",
      "/Users/rfinn/Dropbox/pythonCode/LCSanalyzeblue.py:409: RuntimeWarning: divide by zero encountered in log10\n",
      "  #\n",
      "/Users/rfinn/Dropbox/pythonCode/LCSanalyzeblue.py:409: RuntimeWarning: invalid value encountered in log10\n",
      "  #\n",
      "/Users/rfinn/Dropbox/pythonCode/LCSanalyzeblue.py:428: RuntimeWarning: invalid value encountered in greater\n",
      "  self.emissionflag=((self.s.HAFLUX != 0.) & (self.s.HAFLUX != -9999.) & (self.s.N2FLUX != 0.)) | self.sdssspecflag\n",
      "/Users/rfinn/Dropbox/pythonCode/LCSanalyzeblue.py:463: RuntimeWarning: invalid value encountered in greater\n",
      "  self.zone2=(self.s.DR_R200 > .5) & (self.s.DR_R200 < 1) & (abs(self.dv) < 3.)\n",
      "/Users/rfinn/Dropbox/pythonCode/LCSanalyzeblue.py:469: RuntimeWarning: invalid value encountered in sqrt\n",
      "  self.da=zeros(len(self.s.ZDIST),'f')\n",
      "/Users/rfinn/Dropbox/pythonCode/LCSanalyzeblue.py:474: RuntimeWarning: divide by zero encountered in log10\n",
      "  #self.isorad.NSA=self.isorad.NSA*cos(self.incl)\n",
      "/Users/rfinn/Dropbox/pythonCode/LCSanalyzeblue.py:476: RuntimeWarning: divide by zero encountered in log10\n",
      "  \n",
      "/Users/rfinn/Dropbox/pythonCode/LCSanalyzeblue.py:503: RuntimeWarning: divide by zero encountered in log10\n",
      "  \n"
     ]
    },
    {
     "name": "stdout",
     "output_type": "stream",
     "text": [
      "1800 1800\n",
      "PREFIX =  all\n",
      "%%%%%%%%%%%%%%%%%%%%%%%%%%\n",
      "%%%%%%%%%%%%%%%%%%%%%%%%%%\n",
      "%%%%%%%%%%%%%%%%%%%%%%%%%%\n",
      "\n",
      " prefix = \n",
      "no_coma\n",
      "%%%%%%%%%%%%%%%%%%%%%%%%%%\n",
      "%%%%%%%%%%%%%%%%%%%%%%%%%%\n",
      "%%%%%%%%%%%%%%%%%%%%%%%%%%\n"
     ]
    },
    {
     "name": "stderr",
     "output_type": "stream",
     "text": [
      "/Users/rfinn/Dropbox/pythonCode/LCSanalyzeblue.py:540: RuntimeWarning: divide by zero encountered in divide\n",
      "  self.galfit_override = [70588,70696,43791,69673,146875,82170, 82182, 82188, 82198, 99058, 99660, 99675, 146636, 146638, 146659, 113092, 113095, 72623,72631,72659, 72749, 72778, 79779, 146121, 146130, 166167, 79417, 79591, 79608, 79706, 80769, 80873, 146003, 166044,166083, 89101, 89108,103613,162792,162838, 89063]\n",
      "/Users/rfinn/Dropbox/pythonCode/LCSanalyzeblue.py:540: RuntimeWarning: invalid value encountered in divide\n",
      "  self.galfit_override = [70588,70696,43791,69673,146875,82170, 82182, 82188, 82198, 99058, 99660, 99675, 146636, 146638, 146659, 113092, 113095, 72623,72631,72659, 72749, 72778, 79779, 146121, 146130, 166167, 79417, 79591, 79608, 79706, 80769, 80873, 146003, 166044,166083, 89101, 89108,103613,162792,162838, 89063]\n",
      "/Users/rfinn/Dropbox/pythonCode/LCSanalyzeblue.py:540: RuntimeWarning: invalid value encountered in greater\n",
      "  self.galfit_override = [70588,70696,43791,69673,146875,82170, 82182, 82188, 82198, 99058, 99660, 99675, 146636, 146638, 146659, 113092, 113095, 72623,72631,72659, 72749, 72778, 79779, 146121, 146130, 166167, 79417, 79591, 79608, 79706, 80769, 80873, 146003, 166044,166083, 89101, 89108,103613,162792,162838, 89063]\n",
      "/Users/rfinn/Dropbox/pythonCode/LCSanalyzeblue.py:580: RuntimeWarning: divide by zero encountered in divide\n",
      "  self.truncflag=(self.sizeratio < 0.7) & self.sampleflag  & ~self.agnflag\n",
      "/Users/rfinn/Dropbox/pythonCode/LCSanalyzeblue.py:580: RuntimeWarning: invalid value encountered in divide\n",
      "  self.truncflag=(self.sizeratio < 0.7) & self.sampleflag  & ~self.agnflag\n",
      "/Users/rfinn/Dropbox/pythonCode/LCSanalyzeblue.py:582: RuntimeWarning: invalid value encountered in less\n",
      "  self.distmod=25.+5.*log10(self.dL)\n",
      "/Users/rfinn/Dropbox/pythonCode/LCSanalyzeblue.py:590: RuntimeWarning: invalid value encountered in divide\n",
      "  self.sigma_ir=np.zeros(len(self.LIR_BEST),'d')\n",
      "/Users/rfinn/Dropbox/pythonCode/LCSanalyzeblue.py:591: RuntimeWarning: divide by zero encountered in log10\n",
      "  self.sigma_irerr=np.zeros(len(self.LIR_BEST),'d')\n",
      "/Users/rfinn/Dropbox/pythonCode/LCSanalyzeblue.py:599: RuntimeWarning: invalid value encountered in divide\n",
      "  \n",
      "/Users/rfinn/Dropbox/pythonCode/LCSanalyzeblue.py:599: RuntimeWarning: invalid value encountered in log10\n",
      "  \n",
      "/Users/rfinn/Dropbox/pythonCode/LCSanalyzeblue.py:600: RuntimeWarning: invalid value encountered in divide\n",
      "  flag=(self.sampleflag & self.dvflag & self.gim2dflag & (self.s.B_T_r == self.s.B_T_r) & (n2ha == n2ha) & (o3hb == o3hb) & (self.sizeratio < 4.) & (self.sizeratioERR < 0.3)) & ~self.agnflag & self.sdssspecflag & self.zooflag #& self.HIflag\n",
      "/Users/rfinn/Dropbox/pythonCode/LCSanalyzeblue.py:600: RuntimeWarning: invalid value encountered in log10\n",
      "  flag=(self.sampleflag & self.dvflag & self.gim2dflag & (self.s.B_T_r == self.s.B_T_r) & (n2ha == n2ha) & (o3hb == o3hb) & (self.sizeratio < 4.) & (self.sizeratioERR < 0.3)) & ~self.agnflag & self.sdssspecflag & self.zooflag #& self.HIflag\n",
      "/Users/rfinn/Dropbox/pythonCode/LCSanalyzeblue.py:602: RuntimeWarning: invalid value encountered in less\n",
      "  \n",
      "/Users/rfinn/Dropbox/pythonCode/LCSanalyzeblue.py:651: RuntimeWarning: divide by zero encountered in log10\n",
      "  pcaoutput[:,9]=self.s.CLUSTER_SIGMA[flag]/(self.s.DR_R200[flag]**2)\n",
      "/Users/rfinn/Dropbox/pythonCode/LCSanalyzeblue.py:716: RuntimeWarning: divide by zero encountered in divide\n",
      "  \n",
      "/Users/rfinn/Dropbox/pythonCode/LCSanalyzeblue.py:716: RuntimeWarning: invalid value encountered in divide\n",
      "  \n",
      "/Users/rfinn/Dropbox/pythonCode/LCSanalyzeblue.py:338: VisibleDeprecationWarning: boolean index did not match indexed array along dimension 0; dimension is 7912 but corresponding boolean dimension is 1800\n",
      "  \n",
      "//anaconda/lib/python2.7/site-packages/numpy/core/records.py:499: VisibleDeprecationWarning: boolean index did not match indexed array along dimension 0; dimension is 465 but corresponding boolean dimension is 1800\n",
      "  obj = super(recarray, self).__getitem__(indx)\n"
     ]
    },
    {
     "name": "stdout",
     "output_type": "stream",
     "text": [
      "WARNING: problem matching to moustakas MSTAR_50 - probably ok\n",
      "1147 1147\n",
      "ids not relevant for nc\n",
      "ids not relevant for nc\n",
      "ids not relevant for nc\n",
      "ids not relevant for nc\n",
      "ids not relevant for nc\n",
      "PREFIX =  no_coma\n"
     ]
    }
   ],
   "source": [
    "%run ~/Dropbox/pythonCode/LCSanalyzeblue.py"
   ]
  },
  {
   "cell_type": "code",
   "execution_count": 185,
   "metadata": {
    "collapsed": true
   },
   "outputs": [],
   "source": [
    "t = s.galfitflag & s.lirflag & s.sizeflag & ~s.agnflag & s.sbflag\n",
    "galfitnogim = t & ~s.gim2dflag"
   ]
  },
  {
   "cell_type": "code",
   "execution_count": 186,
   "metadata": {
    "collapsed": false
   },
   "outputs": [
    {
     "data": {
      "text/plain": [
       "28"
      ]
     },
     "execution_count": 186,
     "metadata": {},
     "output_type": "execute_result"
    }
   ],
   "source": [
    "sum(galfitnogim)"
   ]
  },
  {
   "cell_type": "markdown",
   "metadata": {},
   "source": [
    "## Galaxies not in SDSS phot catalog ##"
   ]
  },
  {
   "cell_type": "code",
   "execution_count": 181,
   "metadata": {
    "collapsed": false
   },
   "outputs": [
    {
     "name": "stdout",
     "output_type": "stream",
     "text": [
      "18\n"
     ]
    }
   ],
   "source": [
    "s.s.ISDSS[galfitnogim]\n",
    "print sum(s.s.ISDSS[galfitnogim] == -1)"
   ]
  },
  {
   "cell_type": "markdown",
   "metadata": {},
   "source": [
    "## Galaxies in SDSS but no B/T fit ##"
   ]
  },
  {
   "cell_type": "code",
   "execution_count": 7,
   "metadata": {
    "collapsed": false
   },
   "outputs": [
    {
     "data": {
      "text/plain": [
       "13"
      ]
     },
     "execution_count": 7,
     "metadata": {},
     "output_type": "execute_result"
    }
   ],
   "source": [
    "galfitsdssnogim = galfitnogim & (s.s.ISDSS != -1)\n",
    "sum(galfitsdssnogim)"
   ]
  },
  {
   "cell_type": "code",
   "execution_count": 8,
   "metadata": {
    "collapsed": false
   },
   "outputs": [
    {
     "data": {
      "text/plain": [
       "array([ 70630,  70685,  43712,  69538,  18158,  68283,  68286,  68299,\n",
       "        68342, 113068,  72631, 103927, 103966], dtype=int32)"
      ]
     },
     "execution_count": 8,
     "metadata": {},
     "output_type": "execute_result"
    }
   ],
   "source": [
    "s.s.NSAID[galfitsdssnogim]"
   ]
  },
  {
   "cell_type": "markdown",
   "metadata": {},
   "source": [
    "## Download SDSS Images ##"
   ]
  },
  {
   "cell_type": "code",
   "execution_count": 11,
   "metadata": {
    "collapsed": true
   },
   "outputs": [],
   "source": [
    "from astropy import units as u\n",
    "from astropy.coordinates import SkyCoord\n",
    "from astropy.table import Table\n",
    "try:\n",
    "    # Python 3.x\n",
    "    from urllib.parse import urlencode\n",
    "    from urllib.request import urlretrieve\n",
    "except ImportError:\n",
    "    # Python 2.x\n",
    "    from urllib import urlencode\n",
    "    from urllib import urlretrieve\n",
    "import IPython.display"
   ]
  },
  {
   "cell_type": "code",
   "execution_count": 188,
   "metadata": {
    "collapsed": false
   },
   "outputs": [
    {
     "name": "stdout",
     "output_type": "stream",
     "text": [
      "11\n"
     ]
    },
    {
     "name": "stderr",
     "output_type": "stream",
     "text": [
      "/anaconda/lib/python2.7/site-packages/ipykernel/__main__.py:1: RuntimeWarning: invalid value encountered in log10\n",
      "  if __name__ == '__main__':\n",
      "/anaconda/lib/python2.7/site-packages/ipykernel/__main__.py:2: RuntimeWarning: invalid value encountered in greater_equal\n",
      "  from ipykernel import kernelapp as app\n",
      "/anaconda/lib/python2.7/site-packages/ipykernel/__main__.py:2: RuntimeWarning: invalid value encountered in less_equal\n",
      "  from ipykernel import kernelapp as app\n"
     ]
    }
   ],
   "source": [
    "r = 22.5 - 2.5*log10(s.s.NMGY[:,4])\n",
    "flag = galfitnogim & (r >= 14.) & (r <= 18.)\n",
    "print sum(flag)"
   ]
  },
  {
   "cell_type": "code",
   "execution_count": 189,
   "metadata": {
    "collapsed": false
   },
   "outputs": [],
   "source": [
    "\n",
    "ra = s.s.RA[flag]\n",
    "dec = s.s.DEC[flag]\n",
    "ids = s.s.NSAID[flag]\n",
    "coords = SkyCoord(ra*u.deg, dec*u.deg, frame='icrs')\n",
    "\n",
    "testcoord = coords[0]"
   ]
  },
  {
   "cell_type": "code",
   "execution_count": 183,
   "metadata": {
    "collapsed": false
   },
   "outputs": [
    {
     "name": "stdout",
     "output_type": "stream",
     "text": [
      "NSAID 70630 (202.306824,  11.275839)\n"
     ]
    },
    {
     "data": {
      "image/jpeg": "[encoded data removed]",
      "text/plain": [
       "<IPython.core.display.Image object>"
      ]
     },
     "metadata": {},
     "output_type": "display_data"
    },
    {
     "name": "stdout",
     "output_type": "stream",
     "text": [
      "NSAID 70685 (202.269455,  12.238585)\n"
     ]
    },
    {
     "data": {
      "image/jpeg": "[encoded data removed]",
      "text/plain": [
       "<IPython.core.display.Image object>"
      ]
     },
     "metadata": {},
     "output_type": "display_data"
    },
    {
     "name": "stdout",
     "output_type": "stream",
     "text": [
      "NSAID 43712 (244.129181,  35.708172)\n"
     ]
    },
    {
     "data": {
      "image/jpeg": "[encoded data removed]",
      "text/plain": [
       "<IPython.core.display.Image object>"
      ]
     },
     "metadata": {},
     "output_type": "display_data"
    },
    {
     "name": "stdout",
     "output_type": "stream",
     "text": [
      "NSAID 69538 (244.060699,  34.258434)\n"
     ]
    },
    {
     "data": {
      "image/jpeg": "[encoded data removed]",
      "text/plain": [
       "<IPython.core.display.Image object>"
      ]
     },
     "metadata": {},
     "output_type": "display_data"
    },
    {
     "name": "stdout",
     "output_type": "stream",
     "text": [
      "NSAID 18158 (219.578888,   3.639615)\n"
     ]
    },
    {
     "data": {
      "image/jpeg": "[encoded data removed]",
      "text/plain": [
       "<IPython.core.display.Image object>"
      ]
     },
     "metadata": {},
     "output_type": "display_data"
    },
    {
     "name": "stdout",
     "output_type": "stream",
     "text": [
      "NSAID 68283 (242.047577,  24.507439)\n"
     ]
    },
    {
     "data": {
      "image/jpeg": "[encoded data removed]",
      "text/plain": [
       "<IPython.core.display.Image object>"
      ]
     },
     "metadata": {},
     "output_type": "display_data"
    },
    {
     "name": "stdout",
     "output_type": "stream",
     "text": [
      "NSAID 68286 (241.749313,  24.160772)\n"
     ]
    },
    {
     "data": {
      "image/jpeg": "[encoded data removed]",
      "text/plain": [
       "<IPython.core.display.Image object>"
      ]
     },
     "metadata": {},
     "output_type": "display_data"
    },
    {
     "name": "stdout",
     "output_type": "stream",
     "text": [
      "NSAID 68299 (240.918945,  24.602676)\n"
     ]
    },
    {
     "data": {
      "image/jpeg": "[encoded data removed]",
      "text/plain": [
       "<IPython.core.display.Image object>"
      ]
     },
     "metadata": {},
     "output_type": "display_data"
    },
    {
     "name": "stdout",
     "output_type": "stream",
     "text": [
      "NSAID 68342 (241.297867,  24.960102)\n"
     ]
    },
    {
     "data": {
      "image/jpeg": "[encoded data removed]",
      "text/plain": [
       "<IPython.core.display.Image object>"
      ]
     },
     "metadata": {},
     "output_type": "display_data"
    },
    {
     "name": "stdout",
     "output_type": "stream",
     "text": [
      "NSAID 113068 (175.995667,  20.077011)\n"
     ]
    },
    {
     "data": {
      "image/jpeg": "[encoded data removed]",
      "text/plain": [
       "<IPython.core.display.Image object>"
      ]
     },
     "metadata": {},
     "output_type": "display_data"
    },
    {
     "name": "stdout",
     "output_type": "stream",
     "text": [
      "NSAID 72631 (230.999481,   8.508963)\n"
     ]
    },
    {
     "data": {
      "image/jpeg": "[encoded data removed]",
      "text/plain": [
       "<IPython.core.display.Image object>"
      ]
     },
     "metadata": {},
     "output_type": "display_data"
    },
    {
     "name": "stdout",
     "output_type": "stream",
     "text": [
      "NSAID 103927 (194.490204,  27.443319)\n"
     ]
    },
    {
     "data": {
      "image/jpeg": "[encoded data removed]",
      "text/plain": [
       "<IPython.core.display.Image object>"
      ]
     },
     "metadata": {},
     "output_type": "display_data"
    },
    {
     "name": "stdout",
     "output_type": "stream",
     "text": [
      "NSAID 103966 (194.025421,  27.677467)\n"
     ]
    },
    {
     "data": {
      "image/jpeg": "[encoded data removed]",
      "text/plain": [
       "<IPython.core.display.Image object>"
      ]
     },
     "metadata": {},
     "output_type": "display_data"
    }
   ],
   "source": [
    "impix = 100\n",
    "imsize = 1*u.arcmin\n",
    "cutoutbaseurl = 'http://skyservice.pha.jhu.edu/DR12/ImgCutout/getjpeg.aspx'\n",
    "for i in range(len(coords.ra)):\n",
    "    query_string = urlencode(dict(ra=coords[i].ra.deg, \n",
    "                                     dec=coords[i].dec.deg, \n",
    "                                     width=impix, height=impix, \n",
    "                                     scale=imsize.to(u.arcsec).value/impix))\n",
    "    url = cutoutbaseurl + '?' + query_string\n",
    "\n",
    "    # this downloads the image to your disk\n",
    "    urlretrieve(url, 'images/'+str(ids[i])+'_SDSS_cutout.jpg')\n",
    "    print 'NSAID %i (%10.6f, %10.6f)'%(ids[i],ra[i],dec[i])    \n",
    "    t = IPython.display.Image('images/'+str(ids[i])+'_SDSS_cutout.jpg')\n",
    "    IPython.display.display(t)"
   ]
  },
  {
   "cell_type": "code",
   "execution_count": 200,
   "metadata": {
    "collapsed": false
   },
   "outputs": [
    {
     "name": "stdout",
     "output_type": "stream",
     "text": [
      "* NSAID 142819 (195.169479,  28.519848)\n",
      "http://cas.sdss.org/dr7/en/tools/explore/obj.asp?ra=195.16948&dec=28.51985\n"
     ]
    }
   ],
   "source": [
    "for i in range(10,len(ids)):\n",
    "    print '* NSAID %i (%10.6f, %10.6f)'%(ids[i],ra[i],dec[i])  \n",
    "    print 'http://cas.sdss.org/dr7/en/tools/explore/obj.asp?ra=%.5f&dec=%.5f'%(ra[i],dec[i])"
   ]
  },
  {
   "cell_type": "markdown",
   "metadata": {},
   "source": [
    "* NSAID 69538 (244.060699,  34.258434)\n",
    "    * http://cas.sdss.org/dr7/en/tools/explore/obj.asp?ra=244.06070&dec=34.25843\n",
    "    * too faint according to DR7 catalog \n",
    "\n",
    "\n",
    "* NSAID 18158 (219.578888,   3.639615)\n",
    "    * http://cas.sdss.org/dr7/en/tools/explore/obj.asp?ra=219.57889&dec=3.63961\n",
    "    * PSF_FLUX_INTERP INTERP_CENTER BAD_MOVING_FIT BINNED1 NOTCHECKED SATURATED INTERP COSMIC_RAY CHILD\n",
    "    * (saturated)\n",
    "  \n",
    "  \n",
    "* NSAID 165409 (220.235657,   3.527517)\n",
    "    * http://cas.sdss.org/dr7/en/tools/explore/obj.asp?ra=220.23566&dec=3.52752\n",
    "    * DEBLEND_NOPEAK INTERP_CENTER BINNED1 DEBLENDED_AS_PSF INTERP CHILD\n",
    "    * (blended)\n",
    "  \n",
    "  \n",
    "* NSAID 68283 (242.047577,  24.507439)\n",
    "    * http://cas.sdss.org/dr7/en/tools/explore/obj.asp?ra=242.04758&dec=24.50744\n",
    "    * not in DR7\n",
    "\n",
    "\n",
    "* NSAID 68286 (241.749313,  24.160772)\n",
    "    * http://cas.sdss.org/dr7/en/tools/explore/obj.asp?ra=241.74931&dec=24.16077\n",
    "    * STATIONARY MOVED BINNED1 INTERP COSMIC_RAY NOPETRO NODEBLEND CHILD BLENDED\n",
    "    * NOT IN SIMARD\n",
    "    * (too faint maybe?)\n",
    "    \n",
    "\n",
    "* NSAID 68299 (240.918945,  24.602676)\n",
    "    * http://cas.sdss.org/dr7/en/tools/explore/obj.asp?ra=240.91895&dec=24.60268\n",
    "    * STATIONARY BINNED1 INTERP COSMIC_RAY CHILD\n",
    "    * (not sure)\n",
    "    * NOT IN SIMARD\n",
    "\n",
    "\n",
    "* NSAID 68342 (241.297867,  24.960102)\n",
    "    * http://cas.sdss.org/dr7/en/tools/explore/obj.asp?ra=241.29787&dec=24.96010\n",
    "    * TOO_FEW_GOOD_DETECTIONS PSF_FLUX_INTERP INTERP_CENTER BINNED1 DEBLENDED_AS_PSF INTERP NOPETRO CHILD\n",
    "    * BAD COORDS in DR7?  Image on website above does not match with galaxy.\n",
    "    \n",
    "\n",
    "* NSAID 166124 (230.213974,   8.623065)\n",
    "    * http://cas.sdss.org/dr7/en/tools/explore/obj.asp?ra=230.21397&dec=8.62306\n",
    "    * BINNED1 INTERP CHILD\n",
    "    * NOT IN SIMARD CAT\n",
    "    * (not sure)\n",
    "\n",
    "* NSAID 146012 (229.295181,   6.941795)\n",
    "    * http://cas.sdss.org/dr7/en/tools/explore/obj.asp?ra=229.29518&dec=6.94179\n",
    "    * BINNED1 NOTCHECKED SATURATED INTERP COSMIC_RAY CHILD\n",
    "    * (saturated)\n",
    "\n",
    "\n",
    "* NSAID 166042 (228.910904,   8.302397)\n",
    "    * http://cas.sdss.org/dr7/en/tools/explore/obj.asp?ra=228.91090&dec=8.30240\n",
    "    * DEBLEND_DEGENERATE PSF_FLUX_INTERP BAD_MOVING_FIT MOVED BINNED1 INTERP COSMIC_RAY NODEBLEND CHILD BLENDED\n",
    "    * NOT IN SIMARD\n",
    "    * (not sure)\n",
    " \n",
    "\n",
    "\n",
    "* NSAID 142819 (195.169479,  28.519848)\n",
    "    * http://cas.sdss.org/dr7/en/tools/explore/obj.asp?ra=195.16948&dec=28.51985\n",
    "    * DEBLENDED_AT_EDGE BAD_MOVING_FIT BINNED1 DEBLENDED_AS_PSF NOTCHECKED INTERP NODEBLEND CHILD BLENDED EDGE\n",
    "    * (too faint, blended)"
   ]
  },
  {
   "cell_type": "code",
   "execution_count": 41,
   "metadata": {
    "collapsed": false
   },
   "outputs": [
    {
     "name": "stdout",
     "output_type": "stream",
     "text": [
      "0 143514 202d09m47.8235s 11d23m13.3754s\n",
      "NSAID 143514 (202.163284,  11.387049)\n"
     ]
    },
    {
     "data": {
      "image/jpeg": "[encoded data removed]",
      "text/plain": [
       "<IPython.core.display.Image object>"
      ]
     },
     "metadata": {},
     "output_type": "display_data"
    },
    {
     "name": "stdout",
     "output_type": "stream",
     "text": [
      "1 163615 202d41m50.4858s 11d12m02.7528s\n",
      "NSAID 163615 (202.697357,  11.200765)\n"
     ]
    },
    {
     "data": {
      "image/jpeg": "[encoded data removed]",
      "text/plain": [
       "<IPython.core.display.Image object>"
      ]
     },
     "metadata": {},
     "output_type": "display_data"
    },
    {
     "name": "stdout",
     "output_type": "stream",
     "text": [
      "2 146832 243d31m35.9656s 34d52m14.3445s\n",
      "NSAID 146832 (243.526657,  34.870651)\n"
     ]
    },
    {
     "data": {
      "image/jpeg": "[encoded data removed]",
      "text/plain": [
       "<IPython.core.display.Image object>"
      ]
     },
     "metadata": {},
     "output_type": "display_data"
    },
    {
     "name": "stdout",
     "output_type": "stream",
     "text": [
      "3 146875 244d17m19.6912s 34d52m44.0213s\n",
      "NSAID 146875 (244.288803,  34.878895)\n"
     ]
    },
    {
     "data": {
      "image/jpeg": "[encoded data removed]",
      "text/plain": [
       "<IPython.core.display.Image object>"
      ]
     },
     "metadata": {},
     "output_type": "display_data"
    },
    {
     "name": "stdout",
     "output_type": "stream",
     "text": [
      "4 165409 220d14m08.3643s 3d31m39.0623s\n",
      "NSAID 165409 (220.235657,   3.527517)\n"
     ]
    },
    {
     "data": {
      "image/jpeg": "[encoded data removed]",
      "text/plain": [
       "<IPython.core.display.Image object>"
      ]
     },
     "metadata": {},
     "output_type": "display_data"
    },
    {
     "name": "stdout",
     "output_type": "stream",
     "text": [
      "5 166699 241d30m00.824s 22d38m28.049s\n",
      "NSAID 166699 (241.500229,  22.641125)\n"
     ]
    },
    {
     "data": {
      "image/jpeg": "[encoded data removed]",
      "text/plain": [
       "<IPython.core.display.Image object>"
      ]
     },
     "metadata": {},
     "output_type": "display_data"
    },
    {
     "name": "stdout",
     "output_type": "stream",
     "text": [
      "6 146638 241d17m14.9121s 17d43m47.655s\n",
      "NSAID 146638 (241.287476,  17.729904)\n"
     ]
    },
    {
     "data": {
      "image/jpeg": "[encoded data removed]",
      "text/plain": [
       "<IPython.core.display.Image object>"
      ]
     },
     "metadata": {},
     "output_type": "display_data"
    },
    {
     "name": "stdout",
     "output_type": "stream",
     "text": [
      "7 146659 241d24m59.9084s 18d03m20.7271s\n",
      "NSAID 146659 (241.416641,  18.055758)\n"
     ]
    },
    {
     "data": {
      "image/jpeg": "[encoded data removed]",
      "text/plain": [
       "<IPython.core.display.Image object>"
      ]
     },
     "metadata": {},
     "output_type": "display_data"
    },
    {
     "name": "stdout",
     "output_type": "stream",
     "text": [
      "8 146664 241d26m08.7378s 17d42m56.0605s\n",
      "NSAID 146664 (241.435760,  17.715572)\n"
     ]
    },
    {
     "data": {
      "image/jpeg": "[encoded data removed]",
      "text/plain": [
       "<IPython.core.display.Image object>"
      ]
     },
     "metadata": {},
     "output_type": "display_data"
    },
    {
     "name": "stdout",
     "output_type": "stream",
     "text": [
      "9 140139 175d57m16.3037s 19d58m06.2434s\n",
      "NSAID 140139 (175.954529,  19.968401)\n"
     ]
    },
    {
     "data": {
      "image/jpeg": "[encoded data removed]",
      "text/plain": [
       "<IPython.core.display.Image object>"
      ]
     },
     "metadata": {},
     "output_type": "display_data"
    },
    {
     "name": "stdout",
     "output_type": "stream",
     "text": [
      "10 140160 176d04m18.1787s 20d13m23.8628s\n",
      "NSAID 140160 (176.071716,  20.223295)\n"
     ]
    },
    {
     "data": {
      "image/jpeg": "[encoded data removed]",
      "text/plain": [
       "<IPython.core.display.Image object>"
      ]
     },
     "metadata": {},
     "output_type": "display_data"
    },
    {
     "name": "stdout",
     "output_type": "stream",
     "text": [
      "11 140174 176d12m17.5122s 19d47m42.1651s\n",
      "NSAID 140174 (176.204865,  19.795046)\n"
     ]
    },
    {
     "data": {
      "image/jpeg": "[encoded data removed]",
      "text/plain": [
       "<IPython.core.display.Image object>"
      ]
     },
     "metadata": {},
     "output_type": "display_data"
    },
    {
     "name": "stdout",
     "output_type": "stream",
     "text": [
      "12 140175 176d11m45.5969s 20d07m30.3021s\n",
      "NSAID 140175 (176.195999,  20.125084)\n"
     ]
    },
    {
     "data": {
      "image/jpeg": "[encoded data removed]",
      "text/plain": [
       "<IPython.core.display.Image object>"
      ]
     },
     "metadata": {},
     "output_type": "display_data"
    },
    {
     "name": "stdout",
     "output_type": "stream",
     "text": [
      "13 140187 176d13m41.1731s 20d01m01.7157s\n",
      "NSAID 140187 (176.228104,  20.017143)\n"
     ]
    },
    {
     "data": {
      "image/jpeg": "[encoded data removed]",
      "text/plain": [
       "<IPython.core.display.Image object>"
      ]
     },
     "metadata": {},
     "output_type": "display_data"
    },
    {
     "name": "stdout",
     "output_type": "stream",
     "text": [
      "14 146094 230d27m07.6794s 8d24m36.7101s\n",
      "NSAID 146094 (230.452133,   8.410197)\n"
     ]
    },
    {
     "data": {
      "image/jpeg": "[encoded data removed]",
      "text/plain": [
       "<IPython.core.display.Image object>"
      ]
     },
     "metadata": {},
     "output_type": "display_data"
    },
    {
     "name": "stdout",
     "output_type": "stream",
     "text": [
      "15 146121 230d45m02.9663s 8d27m55.7103s\n",
      "NSAID 146121 (230.750824,   8.465475)\n"
     ]
    },
    {
     "data": {
      "image/jpeg": "[encoded data removed]",
      "text/plain": [
       "<IPython.core.display.Image object>"
      ]
     },
     "metadata": {},
     "output_type": "display_data"
    },
    {
     "name": "stdout",
     "output_type": "stream",
     "text": [
      "16 146127 230d47m08.9246s 8d20m04.4724s\n",
      "NSAID 146127 (230.785812,   8.334576)\n"
     ]
    },
    {
     "data": {
      "image/jpeg": "[encoded data removed]",
      "text/plain": [
       "<IPython.core.display.Image object>"
      ]
     },
     "metadata": {},
     "output_type": "display_data"
    },
    {
     "name": "stdout",
     "output_type": "stream",
     "text": [
      "17 146130 230d48m03.5815s 8d32m59.5166s\n",
      "NSAID 146130 (230.800995,   8.549866)\n"
     ]
    },
    {
     "data": {
      "image/jpeg": "[encoded data removed]",
      "text/plain": [
       "<IPython.core.display.Image object>"
      ]
     },
     "metadata": {},
     "output_type": "display_data"
    },
    {
     "name": "stdout",
     "output_type": "stream",
     "text": [
      "18 145965 228d44m59.1211s 6d48m16.8081s\n",
      "NSAID 145965 (228.749756,   6.804669)\n"
     ]
    },
    {
     "data": {
      "image/jpeg": "[encoded data removed]",
      "text/plain": [
       "<IPython.core.display.Image object>"
      ]
     },
     "metadata": {},
     "output_type": "display_data"
    },
    {
     "name": "stdout",
     "output_type": "stream",
     "text": [
      "19 145984 229d04m35.8118s 6d48m12.9766s\n",
      "NSAID 145984 (229.076614,   6.803605)\n"
     ]
    },
    {
     "data": {
      "image/jpeg": "[encoded data removed]",
      "text/plain": [
       "<IPython.core.display.Image object>"
      ]
     },
     "metadata": {},
     "output_type": "display_data"
    },
    {
     "name": "stdout",
     "output_type": "stream",
     "text": [
      "20 145998 229d11m07.3096s 7d01m17.8536s\n",
      "NSAID 145998 (229.185364,   7.021626)\n"
     ]
    },
    {
     "data": {
      "image/jpeg": "[encoded data removed]",
      "text/plain": [
       "<IPython.core.display.Image object>"
      ]
     },
     "metadata": {},
     "output_type": "display_data"
    },
    {
     "name": "stdout",
     "output_type": "stream",
     "text": [
      "21 145999 229d11m16.0986s 7d03m20.3889s\n",
      "NSAID 145999 (229.187805,   7.055664)\n"
     ]
    },
    {
     "data": {
      "image/jpeg": "[encoded data removed]",
      "text/plain": [
       "<IPython.core.display.Image object>"
      ]
     },
     "metadata": {},
     "output_type": "display_data"
    },
    {
     "name": "stdout",
     "output_type": "stream",
     "text": [
      "22 146012 229d17m42.6526s 6d56m30.4615s\n",
      "NSAID 146012 (229.295181,   6.941795)\n"
     ]
    },
    {
     "data": {
      "image/jpeg": "[encoded data removed]",
      "text/plain": [
       "<IPython.core.display.Image object>"
      ]
     },
     "metadata": {},
     "output_type": "display_data"
    },
    {
     "name": "stdout",
     "output_type": "stream",
     "text": [
      "23 146041 229d42m49.7021s 6d26m09.1961s\n",
      "NSAID 146041 (229.713806,   6.435888)\n"
     ]
    },
    {
     "data": {
      "image/jpeg": "[encoded data removed]",
      "text/plain": [
       "<IPython.core.display.Image object>"
      ]
     },
     "metadata": {},
     "output_type": "display_data"
    },
    {
     "name": "stdout",
     "output_type": "stream",
     "text": [
      "24 166042 228d54m39.2542s 8d18m08.6284s\n",
      "NSAID 166042 (228.910904,   8.302397)\n"
     ]
    },
    {
     "data": {
      "image/jpeg": "[encoded data removed]",
      "text/plain": [
       "<IPython.core.display.Image object>"
      ]
     },
     "metadata": {},
     "output_type": "display_data"
    },
    {
     "name": "stdout",
     "output_type": "stream",
     "text": [
      "25 166044 228d56m13.0225s 6d57m31.3292s\n",
      "NSAID 166044 (228.936951,   6.958703)\n"
     ]
    },
    {
     "data": {
      "image/jpeg": "[encoded data removed]",
      "text/plain": [
       "<IPython.core.display.Image object>"
      ]
     },
     "metadata": {},
     "output_type": "display_data"
    },
    {
     "name": "stdout",
     "output_type": "stream",
     "text": [
      "26 166083 229d13m04.6436s 6d32m20.8928s\n",
      "NSAID 166083 (229.217957,   6.539137)\n"
     ]
    },
    {
     "data": {
      "image/jpeg": "[encoded data removed]",
      "text/plain": [
       "<IPython.core.display.Image object>"
      ]
     },
     "metadata": {},
     "output_type": "display_data"
    },
    {
     "name": "stdout",
     "output_type": "stream",
     "text": [
      "27 142797 195d04m25.155s 27d57m18.9885s\n",
      "NSAID 142797 (195.073654,  27.955275)\n"
     ]
    },
    {
     "data": {
      "image/jpeg": "[encoded data removed]",
      "text/plain": [
       "<IPython.core.display.Image object>"
      ]
     },
     "metadata": {},
     "output_type": "display_data"
    },
    {
     "name": "stdout",
     "output_type": "stream",
     "text": [
      "28 142819 195d10m10.1257s 28d31m11.4523s\n",
      "NSAID 142819 (195.169479,  28.519848)\n"
     ]
    },
    {
     "data": {
      "image/jpeg": "[encoded data removed]",
      "text/plain": [
       "<IPython.core.display.Image object>"
      ]
     },
     "metadata": {},
     "output_type": "display_data"
    },
    {
     "name": "stdout",
     "output_type": "stream",
     "text": [
      "29 142833 195d12m53.1079s 28d02m34.351s\n",
      "NSAID 142833 (195.214752,  28.042875)\n"
     ]
    },
    {
     "data": {
      "image/jpeg": "[encoded data removed]",
      "text/plain": [
       "<IPython.core.display.Image object>"
      ]
     },
     "metadata": {},
     "output_type": "display_data"
    },
    {
     "name": "stdout",
     "output_type": "stream",
     "text": [
      "30 162838 195d16m50.4126s 28d07m17.7296s\n",
      "NSAID 162838 (195.280670,  28.121592)\n"
     ]
    },
    {
     "data": {
      "image/jpeg": "[encoded data removed]",
      "text/plain": [
       "<IPython.core.display.Image object>"
      ]
     },
     "metadata": {},
     "output_type": "display_data"
    }
   ],
   "source": [
    "\n",
    "for i in range(len(coords.ra)):\n",
    "    query_string = urlencode(dict(ra=coords[i].ra.deg, \n",
    "                                     dec=coords[i].dec.deg, \n",
    "                                     width=impix, height=impix, \n",
    "                                     scale=imsize.to(u.arcsec).value/impix))\n",
    "    url = cutoutbaseurl + '?' + query_string\n",
    "\n",
    "    # this downloads the image to your disk\n",
    "    urlretrieve(url, 'images/'+str(nsaids[i])+'_SDSS_cutout.jpg')\n",
    "    print i, nsaids[i],coords[i].ra,coords[i].dec\n",
    "    print 'NSAID %i (%10.6f, %10.6f)'%(nsaids[i],coords[i].ra.deg,coords[i].dec)    \n",
    "    t = IPython.display.Image('images/'+str(nsaids[i])+'_SDSS_cutout.jpg')\n",
    "    IPython.display.display(t)"
   ]
  },
  {
   "cell_type": "code",
   "execution_count": 32,
   "metadata": {
    "collapsed": false
   },
   "outputs": [
    {
     "name": "stdout",
     "output_type": "stream",
     "text": [
      "NSAID 70630 (202.306824,  11.275839)\n",
      "NSAID 70685 (202.269455,  12.238585)\n",
      "NSAID 43712 (244.129181,  35.708172)\n",
      "NSAID 69538 (244.060699,  34.258434)\n",
      "NSAID 18158 (219.578888,   3.639615)\n",
      "NSAID 68283 (242.047577,  24.507439)\n",
      "NSAID 68286 (241.749313,  24.160772)\n",
      "NSAID 68299 (240.918945,  24.602676)\n",
      "NSAID 68342 (241.297867,  24.960102)\n",
      "NSAID 113068 (175.995667,  20.077011)\n",
      "NSAID 72631 (230.999481,   8.508963)\n",
      "NSAID 103927 (194.490204,  27.443319)\n",
      "NSAID 103966 (194.025421,  27.677467)\n"
     ]
    }
   ],
   "source": [
    "for i in range(len(coords.ra)):\n",
    "    print 'NSAID %i (%10.6f, %10.6f)'%(ids[i],ra[i],dec[i])    "
   ]
  },
  {
   "cell_type": "code",
   "execution_count": 34,
   "metadata": {
    "collapsed": false
   },
   "outputs": [
    {
     "name": "stdout",
     "output_type": "stream",
     "text": [
      "(array([  84,   93,  240,  242,  382,  489,  594,  597,  599,  682,  690,\n",
      "        694,  695,  701,  880,  889,  893,  895, 1084, 1089, 1094, 1095,\n",
      "       1100, 1107, 1110, 1111, 1122, 1704, 1719, 1728, 1786]),)\n"
     ]
    }
   ],
   "source": [
    "ids = where(galfitnogim & (s.s.ISDSS == -1))\n",
    "print ids"
   ]
  },
  {
   "cell_type": "markdown",
   "metadata": {},
   "source": [
    "* NSAID 143514 (202.163284,  11.387049)\n",
    "    * (too bright)\n",
    "* NSAID 163615 (202.697357,  11.200765)\n",
    "    * (too bright)\n",
    "* NSAID 146832 (243.526657,  34.870651)\n",
    "    * \tBINNED1 SATURATED INTERP COSMIC_RAY CHILD\n",
    "    * (saturated)\n",
    "* NSAID 146875 (244.288803,  34.878895)\n",
    "    * DEBLENDED_AT_EDGE BINNED1 NOTCHECKED INTERP CHILD EDGE\n",
    "    * r = 13.92\n",
    "    * (too bright)\n",
    "* NSAID 165409 (220.235657,   3.527517)\n",
    "    * DEBLEND_NOPEAK INTERP_CENTER BINNED1 DEBLENDED_AS_PSF INTERP CHILD\n",
    "    * r = 18.82\n",
    "    * (deblended and too faint)\n",
    "* NSAID 166699 (241.500229,  22.641125)\n",
    "    * BAD_MOVING_FIT MOVED BINNED1 INTERP COSMIC_RAY CHILD\n",
    "    * r = 15.01, ext_r = 0.18\n",
    "    * (not sure)\n",
    "* NSAID 146638 (241.287476,  17.729904)\n",
    "    * STATIONARY BINNED1 SATURATED INTERP COSMIC_RAY CHILD\n",
    "    * r = 13.57, ext_r = .13\n",
    "    * (too bright, saturated)\n",
    "* NSAID 146659 (241.416641,  18.055758)\n",
    "    * STATIONARY BINNED1 INTERP COSMIC_RAY CHILD\n",
    "    * r = 14.52, ext_r = 0.14\n",
    "    * (not sure)\n",
    "   \n",
    "* NSAID 146664 (241.435760,  17.715572)\n",
    "    * STATIONARY MOVED BINNED1 INTERP COSMIC_RAY CHILD\n",
    "    * r = 14.65, ext_r = 0.13\n",
    "    * (not sure)\n",
    "    * not in simard\n",
    "    \n",
    "* NSAID 140139 (175.954529,  19.968401)\n",
    "    * DEBLEND_DEGENERATE PSF_FLUX_INTERP DEBLENDED_AT_EDGE BAD_MOVING_FIT MOVED BINNED1 INTERP COSMIC_RAY NODEBLEND CHILD BLENDED\n",
    "    * r = 13.78, ext_r = 0.06\n",
    "    * (too bright)\n",
    "\n",
    "* NSAID 140160 (176.071716,  20.223295)\n",
    "    * STATIONARY BINNED1 INTERP COSMIC_RAY CHILD\n",
    "    * r = 13.90, ext_r = 0.06\n",
    "    * (too bright) \n",
    "    \n",
    "* NSAID 140174 (176.204865,  19.795046)\n",
    "    * STATIONARY BINNED1 INTERP COSMIC_RAY CHILD\n",
    "    * r = 13.18, ext_r = 0.07\n",
    "    * (too bright)\n",
    "\n",
    "* NSAID 140175 (176.195999,  20.125084)\n",
    "    * STATIONARY BINNED1 INTERP COSMIC_RAY CHILD\n",
    "    * r = 13.38, ext_r = 0.07\n",
    "    * not in simard\n",
    "\n",
    "* NSAID 140187 (176.228104,  20.017143)\n",
    "    * STATIONARY BINNED1 INTERP CHILD\n",
    "    * r = 16.19, ext_r = 0.08\n",
    "    * (not sure)\n",
    "    * not in simard\n",
    "    \n",
    "* NSAID 146094 (230.452133,   8.410197)\n",
    "    * STATIONARY BINNED1 CHILD\n",
    "    * r = 15.86, ext_r = 0.10\n",
    "    * (not sure)\n",
    "    * IN SIMARD!!!\n",
    "\n",
    "* NSAID 146121 (230.750824,   8.465475)\n",
    "    * MOVED BINNED1 INTERP COSMIC_RAY CHILD\n",
    "    * r = 15.80, ext_r = 0.09\n",
    "    \n",
    "* NSAID 146127 (230.785812,   8.334576)\n",
    "    * PSF_FLUX_INTERP INTERP_CENTER STATIONARY BINNED1 INTERP NOPETRO NODEBLEND CHILD BLENDED\n",
    "    * r = 17.20, ext_r = 0.09\n",
    "    * (blended?)\n",
    "    \n",
    "* NSAID 146130 (230.800995,   8.549866)\n",
    "    * BINNED1 INTERP COSMIC_RAY CHILD\n",
    "    * r = 15.36, ext_r = 0.09\n",
    "    * (not sure, maybe blended?)\n",
    "    \n",
    "* NSAID 145965 (228.749756,   6.804669)\n",
    "    * STATIONARY MOVED BINNED1 INTERP COSMIC_RAY NOPETRO CHILD\n",
    "    * r = 16.70, ext_r = 0.10\n",
    "    * (no petro)\n",
    "    \n",
    "* NSAID 145984 (229.076614,   6.803605)\n",
    "    * BINNED1 INTERP COSMIC_RAY CHILD\n",
    "    * r = 15.72, ext_r = 0.1\n",
    "    * (not sure)\n",
    "    \n",
    "* NSAID 145998 (229.185364,   7.021626)\n",
    "\n",
    "* NSAID 145999 (229.187805,   7.055664)\n",
    "\n",
    "* NSAID 146012 (229.295181,   6.941795)\n",
    "\n",
    "* NSAID 146041 (229.713806,   6.435888)\n",
    "\n",
    "* NSAID 166042 (228.910904,   8.302397)\n",
    "\n",
    "* NSAID 166044 (228.936951,   6.958703)\n",
    "\n",
    "* NSAID 166083 (229.217957,   6.539137)\n",
    "\n",
    "* NSAID 142797 (195.073654,  27.955275)\n",
    "\n",
    "* NSAID 142819 (195.169479,  28.519848)\n",
    "\n",
    "* NSAID 142833 (195.214752,  28.042875)\n",
    "\n",
    "* NSAID 162838 (195.280670,  28.121592)\n"
   ]
  },
  {
   "cell_type": "markdown",
   "metadata": {},
   "source": [
    "# Oh No! #\n",
    "\n",
    "seems like galaxies that are in simard are not in my catalog :(\n",
    "\n",
    "* Going to read in my catalog\n",
    "* read in simard catalog\n",
    "* match them \n",
    "* and then see what's going on"
   ]
  },
  {
   "cell_type": "code",
   "execution_count": 50,
   "metadata": {
    "collapsed": true
   },
   "outputs": [],
   "source": [
    "lcs = fits.getdata('/Users/rfinn/research/LocalClusters/NSAmastertables/LCS_all_size.fits')"
   ]
  },
  {
   "cell_type": "code",
   "execution_count": 52,
   "metadata": {
    "collapsed": false
   },
   "outputs": [],
   "source": [
    "gim = fits.getdata('/Users/rfinn/research/SimardSDSS2011/table1.fits')virgocat = SkyCoord(vdat.RA*u.degree,vdat.DEC*u.degree,frame='icrs')\n"
   ]
  },
  {
   "cell_type": "code",
   "execution_count": 118,
   "metadata": {
    "collapsed": true
   },
   "outputs": [],
   "source": [
    "from astropy.coordinates import SkyCoord\n",
    "from astropy import units as u\n",
    "%matplotlib inline"
   ]
  },
  {
   "cell_type": "code",
   "execution_count": 56,
   "metadata": {
    "collapsed": false
   },
   "outputs": [],
   "source": [
    "lcat = SkyCoord(lcs.RA*u.degree,lcs.DEC*u.degree,frame='icrs')\n",
    "gcat = SkyCoord(gim._RAJ2000*u.degree,gim._DEJ2000*u.degree,frame='icrs')\n",
    "\n",
    "index,dist2d,dist3d = lcat.match_to_catalog_sky(gcat)"
   ]
  },
  {
   "cell_type": "code",
   "execution_count": 113,
   "metadata": {
    "collapsed": false
   },
   "outputs": [
    {
     "data": {
      "text/plain": [
       "<matplotlib.figure.Figure at 0x11bf9a350>"
      ]
     },
     "execution_count": 113,
     "metadata": {},
     "output_type": "execute_result"
    }
   ],
   "source": [
    "plt.figure()\n",
    "plt.plot"
   ]
  },
  {
   "cell_type": "code",
   "execution_count": 169,
   "metadata": {
    "collapsed": false
   },
   "outputs": [
    {
     "name": "stdout",
     "output_type": "stream",
     "text": [
      "percent of LCS galaxies matched = 84.2\n"
     ]
    }
   ],
   "source": [
    "# only keep matches with matched RA and Dec w/in 1 arcsec\n",
    "matchflag = dist2d.degree < 3./3600\n",
    "\n",
    "matchedarray1=np.zeros(len(lcat),dtype=gim.dtype)\n",
    "matchedarray1[matchflag] = gim[index[matchflag]]\n",
    "print 'percent of LCS galaxies matched = %.1f'%(sum(matchflag)*1./len(matchflag)*100.)\n"
   ]
  },
  {
   "cell_type": "code",
   "execution_count": 170,
   "metadata": {
    "collapsed": false
   },
   "outputs": [],
   "source": [
    "# get rid of names that start with __\n",
    "# these cause trouble in the analysis program\n",
    "t = []\n",
    "for a in matchedarray1.dtype.names:\n",
    "    t.append(a)\n",
    "for i in range(len(t)):\n",
    "    if t[i].startswith('__'):\n",
    "        t[i] = t[i][2:]\n",
    "t = tuple(t)\n",
    "#print t"
   ]
  },
  {
   "cell_type": "code",
   "execution_count": 171,
   "metadata": {
    "collapsed": true
   },
   "outputs": [],
   "source": [
    "matchedarray1.dtype.names = t"
   ]
  },
  {
   "cell_type": "code",
   "execution_count": 172,
   "metadata": {
    "collapsed": false
   },
   "outputs": [],
   "source": [
    "outfile = '/Users/rfinn/research/LocalClusters/NSAmastertables/LCS_all.gim2d.tab1.fits'\n",
    "fits.writeto(outfile,matchedarray1,overwrite=True)"
   ]
  },
  {
   "cell_type": "code",
   "execution_count": 174,
   "metadata": {
    "collapsed": false
   },
   "outputs": [
    {
     "name": "stdout",
     "output_type": "stream",
     "text": [
      "number of bad matches =  47\n"
     ]
    },
    {
     "name": "stderr",
     "output_type": "stream",
     "text": [
      "/anaconda/lib/python2.7/site-packages/ipykernel/__main__.py:2: RuntimeWarning: invalid value encountered in greater\n",
      "  from ipykernel import kernelapp as app\n"
     ]
    }
   ],
   "source": [
    "diff = (lcs.B_T_r - matchedarray1['B_T_r'])\n",
    "bad_matches = (abs(diff) > .01) & matchflag\n",
    "print 'number of bad matches = ',sum(bad_matches)\n",
    "\n"
   ]
  },
  {
   "cell_type": "code",
   "execution_count": 175,
   "metadata": {
    "collapsed": false
   },
   "outputs": [
    {
     "data": {
      "text/plain": [
       "array([146872, 166835, 166860,  18263,  82194, 166699, 146639, 146659,\n",
       "       146660, 113059, 113484, 140160, 140191,  72631, 146082, 146085,\n",
       "       146094, 146121, 146127, 146130, 166154, 145965, 145982, 145984,\n",
       "       145999, 166044, 166083, 103927, 142589, 142605, 142609, 142628,\n",
       "       142638, 142658, 142678, 142729, 142741, 142748, 142756, 142767,\n",
       "       142787, 142832, 142836, 142837, 142850, 142872, 162838], dtype=int32)"
      ]
     },
     "execution_count": 175,
     "metadata": {},
     "output_type": "execute_result"
    }
   ],
   "source": [
    "s.s.NSAID[bad_matches]"
   ]
  },
  {
   "cell_type": "code",
   "execution_count": 176,
   "metadata": {
    "collapsed": false
   },
   "outputs": [
    {
     "name": "stdout",
     "output_type": "stream",
     "text": [
      "['NGC6107' 'NGC6107' 'NGC6107' 'MKW8' 'AWM4' 'AWM4' 'Hercules' 'Hercules'\n",
      " 'Hercules' 'A1367' 'A1367' 'A1367' 'A1367' 'A2063' 'A2063' 'A2063' 'A2063'\n",
      " 'A2063' 'A2063' 'A2063' 'A2063' 'A2052' 'A2052' 'A2052' 'A2052' 'A2052'\n",
      " 'A2052' 'Coma' 'Coma' 'Coma' 'Coma' 'Coma' 'Coma' 'Coma' 'Coma' 'Coma'\n",
      " 'Coma' 'Coma' 'Coma' 'Coma' 'Coma' 'Coma' 'Coma' 'Coma' 'Coma' 'Coma'\n",
      " 'Coma']\n",
      "16\n"
     ]
    },
    {
     "data": {
      "image/png": "[encoded data removed]",
      "text/plain": [
       "<matplotlib.figure.Figure at 0x13a339a50>"
      ]
     },
     "metadata": {},
     "output_type": "display_data"
    }
   ],
   "source": [
    "plt.figure()\n",
    "plt.plot(lcs.RA[bad_matches],lcs.DEC[bad_matches],'ko')\n",
    "print lcs.CLUSTER[bad_matches]\n",
    "print sum(s.galfitflag[bad_matches])"
   ]
  },
  {
   "cell_type": "code",
   "execution_count": 177,
   "metadata": {
    "collapsed": false
   },
   "outputs": [
    {
     "name": "stdout",
     "output_type": "stream",
     "text": [
      "48\n"
     ]
    },
    {
     "name": "stderr",
     "output_type": "stream",
     "text": [
      "/anaconda/lib/python2.7/site-packages/ipykernel/__main__.py:1: RuntimeWarning: invalid value encountered in less\n",
      "  if __name__ == '__main__':\n"
     ]
    }
   ],
   "source": [
    "print sum(diff < 0.)"
   ]
  },
  {
   "cell_type": "code",
   "execution_count": 134,
   "metadata": {
    "collapsed": true
   },
   "outputs": [],
   "source": [
    "outfile = '/Users/rfinn/research/LocalClusters/NSAmastertables/LCS_all.gim2d.tab1.fits'\n",
    "gdat = fits.getdata(outfile)"
   ]
  },
  {
   "cell_type": "code",
   "execution_count": 135,
   "metadata": {
    "collapsed": false
   },
   "outputs": [
    {
     "data": {
      "text/plain": [
       "array([ 0.47      ,  0.50999999,  0.38      , ...,  0.49000001,\n",
       "        0.64999998,  0.34      ], dtype=float32)"
      ]
     },
     "execution_count": 135,
     "metadata": {},
     "output_type": "execute_result"
    }
   ],
   "source": [
    "gdat.__B_T_r"
   ]
  },
  {
   "cell_type": "code",
   "execution_count": null,
   "metadata": {
    "collapsed": true
   },
   "outputs": [],
   "source": []
  }
 ],
 "metadata": {
  "kernelspec": {
   "display_name": "Python [default]",
   "language": "python",
   "name": "python2"
  },
  "language_info": {
   "codemirror_mode": {
    "name": "ipython",
    "version": 2
   },
   "file_extension": ".py",
   "mimetype": "text/x-python",
   "name": "python",
   "nbconvert_exporter": "python",
   "pygments_lexer": "ipython2",
   "version": "2.7.13"
  }
 },
 "nbformat": 4,
 "nbformat_minor": 2
}
