{
 "cells": [
  {
   "cell_type": "code",
   "execution_count": 2,
   "id": "a95f8641",
   "metadata": {},
   "outputs": [],
   "source": [
    "import numpy as np"
   ]
  },
  {
   "cell_type": "code",
   "execution_count": 10,
   "id": "88a8dccf",
   "metadata": {},
   "outputs": [
    {
     "name": "stdout",
     "output_type": "stream",
     "text": [
      "[0.17       0.30420736]\n",
      "0.13420736000000003\n",
      "4.8539940198129035\n"
     ]
    }
   ],
   "source": [
    "#redshifts corresponding to 0 and 1.5 Gyr lookback time.  From Ned Wright Cosmology Calculator\n",
    "z = np.array([0,0.116])\n",
    "\n",
    "#Whitaker+12\n",
    "alpha = 0.70 - 0.13 * z\n",
    "beta = 0.38 + 1.14 * z - 0.19 * z**2\n",
    "lMstar = 10.2\n",
    "lSFR = alpha * (lMstar - 10.5) + beta\n",
    "del_lSFR_MS = lSFR[1] - lSFR[0]\n",
    "print(lSFR)\n",
    "print(del_lSFR_MS)\n",
    "\n",
    "\n",
    "#now calculate what tau that decrease corresponds to for an exponentially declining SFR with delta_t = 1.5Gyr\n",
    "t = 1.5  #Gyr\n",
    "#from notability notebook\n",
    "tau = t / (np.log(10**del_lSFR_MS))\n",
    "print(tau)\n"
   ]
  }
 ],
 "metadata": {
  "kernelspec": {
   "display_name": "Python 3",
   "language": "python",
   "name": "python3"
  },
  "language_info": {
   "codemirror_mode": {
    "name": "ipython",
    "version": 3
   },
   "file_extension": ".py",
   "mimetype": "text/x-python",
   "name": "python",
   "nbconvert_exporter": "python",
   "pygments_lexer": "ipython3",
   "version": "3.7.10"
  }
 },
 "nbformat": 4,
 "nbformat_minor": 5
}
