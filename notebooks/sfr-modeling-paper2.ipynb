{
 "cells": [
  {
   "cell_type": "code",
   "execution_count": 2,
   "metadata": {},
   "outputs": [],
   "source": [
    "import numpy as np\n",
    "from matplotlib import pyplot as plt\n",
    "%matplotlib inline\n",
    "\n",
    "import os\n",
    "import sys\n",
    "import warnings\n",
    "warnings.filterwarnings('ignore')\n",
    "\n"
   ]
  },
  {
   "cell_type": "code",
   "execution_count": 3,
   "metadata": {},
   "outputs": [
    {
     "name": "stdout",
     "output_type": "stream",
     "text": [
      "Running on coma\n"
     ]
    }
   ],
   "source": [
    "homedir = os.getenv(\"HOME\")\n",
    "sys.path.append(homedir+'/github/APPSS/')\n",
    "from a100sdss import ks, anderson\n",
    "sys.path.append(homedir+'/github/LCS/python/')\n",
    "from LCScommon import *\n"
   ]
  },
  {
   "cell_type": "markdown",
   "metadata": {},
   "source": [
    "# Strategy\n",
    "\n",
    "### Paper 1\n",
    "\n",
    "We compared the size ratio of infall galaxies to the core galaxies.\n",
    "\n",
    "### Paper 2\n",
    "\n",
    "* With the addition of the large field sample, we can compare the SFR distribution of the core galaxies with the field galaxies.\n",
    "\n",
    "\n",
    "* we should use a mass-matched subsample of the field galaxies - draw a sample 10 times?  or draw 10 for each galaxy?  either way is probably fine.  We will compare the SFR distribution of the field and core.\n",
    "\n",
    "* but how?  we really want to compare the core vs simulated galaxies in the SFR-Mstar plane.\n",
    "\n",
    "* or could we just start with a mass-matched sample, decrease the SFRs at some rate, and then compare with the core?\n",
    "\n",
    "* what does fraction of suppressed galaxies vs Mstar look like for the core vs infall vs field?"
   ]
  }
 ],
 "metadata": {
  "kernelspec": {
   "display_name": "Python 3",
   "language": "python",
   "name": "python3"
  },
  "language_info": {
   "codemirror_mode": {
    "name": "ipython",
    "version": 3
   },
   "file_extension": ".py",
   "mimetype": "text/x-python",
   "name": "python",
   "nbconvert_exporter": "python",
   "pygments_lexer": "ipython3",
   "version": "3.7.4"
  }
 },
 "nbformat": 4,
 "nbformat_minor": 2
}
