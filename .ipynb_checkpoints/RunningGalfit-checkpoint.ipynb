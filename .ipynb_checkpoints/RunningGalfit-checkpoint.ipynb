{
 "metadata": {
  "name": "",
  "signature": "sha256:e9bd9651ece4506ecf06e4c664480f9beed54dcb8cf604d45e4d90a900f5cfb0"
 },
 "nbformat": 3,
 "nbformat_minor": 0,
 "worksheets": [
  {
   "cells": [
    {
     "cell_type": "markdown",
     "metadata": {},
     "source": [
      "I redid the galfit simulations and found quite a big offset between input and recovered values for the Hercules field of view.  I tried using the default mips prf for detection, and this worked much better.  So, I now have to rerun galfit on Hercules, and this is a good opportunity to document the procedure using a python notebook.\n",
      "\n",
      "    to run on 24um images with PA and BA held fixed at SDSS values: (2015/02/03)\n",
      "\n",
      "      mkw11.run_just_get_images24(make_mask=1,review_mask=1) # if you haven't made cutouts yet\n",
      "      mkw11.rungalfit_first_time_24(fitBAflag=False,fitPAflag=False)\n",
      "      mkw11.write_galfit_sersic_parameters_24()\n"
     ]
    },
    {
     "cell_type": "code",
     "collapsed": false,
     "input": [
      "import numpy as np\n",
      "from pylab import *\n",
      "%matplotlib inline\n",
      "import warnings\n",
      "warnings.filterwarnings('ignore')"
     ],
     "language": "python",
     "metadata": {},
     "outputs": [],
     "prompt_number": 5
    },
    {
     "cell_type": "code",
     "collapsed": false,
     "input": [
      "%run ~/Dropbox/pythonCode/LCSrungalfit.py"
     ],
     "language": "python",
     "metadata": {},
     "outputs": [
      {
       "output_type": "stream",
       "stream": "stdout",
       "text": [
        "got here\n",
        "Running on Rose's mac pro\n",
        "got to the end!\n",
        "Auto-detected table type: fits\n",
        "Auto-detected table type: fits"
       ]
      },
      {
       "output_type": "stream",
       "stream": "stdout",
       "text": [
        "\n",
        "Auto-detected table type: fits\n",
        "Auto-detected table type: fits"
       ]
      },
      {
       "output_type": "stream",
       "stream": "stdout",
       "text": [
        "\n",
        "Auto-detected table type: fits\n",
        "conversion from F24 to L24 = "
       ]
      },
      {
       "output_type": "stream",
       "stream": "stdout",
       "text": [
        " 88772.9837327\n",
        "Hercules :  N members =  125  N field =  0\n",
        " N spirals on 24um image =  36  Nspiral members =  36\n",
        " N galaxies on 24um image =  125  N members on 24um image =  125\n",
        "0.03639"
       ]
      },
      {
       "output_type": "stream",
       "stream": "stdout",
       "text": [
        " 458.5295\n",
        "could not find "
       ]
      },
      {
       "output_type": "stream",
       "stream": "stdout",
       "text": [
        " 142589  in coma\n",
        "could not find  104115  in coma\n",
        "could not find  104020  in coma\n",
        "could not find  104022  in coma\n",
        "could not find  142662  in coma\n",
        "could not find  142763  in coma\n",
        "could not find  142797  in coma\n",
        "could not find  162768  in coma\n",
        "could not find  162797  in coma\n"
       ]
      }
     ],
     "prompt_number": 6
    },
    {
     "cell_type": "code",
     "collapsed": false,
     "input": [
      "herc.rungalfit_first_time_24(fitBAflag=False,fitPAflag=False)\n",
      "# running from ipython window because the interactions are a bit painful"
     ],
     "language": "python",
     "metadata": {},
     "outputs": [
      {
       "output_type": "stream",
       "stream": "stdout",
       "text": [
        "#################\n",
        "just inside rungalfit\n",
        "conv, fitBA, fitPA flag =  True False False\n",
        "0\n",
        "here is what I think the start_index is:  0\n",
        "*******************\n",
        "*******************\n",
        "*******************\n",
        "\n",
        "running galfit analysis for MIPS image of  Hercules - 99037\n",
        "snr24 =  4.66\n",
        "\n",
        " output image already exists \n",
        "\n",
        "/Users/rfinn/research/LocalClusters/GalfitAnalysis/Hercules/24um/Hercules-99037-24-fixedBA-1Comp-galfit-out.fits\n"
       ]
      },
      {
       "name": "stdout",
       "output_type": "stream",
       "stream": "stdout",
       "text": [
        "Run galfit again?  y (or any key)=yes n=no x=quit \n",
        "y\n"
       ]
      },
      {
       "output_type": "stream",
       "stream": "stdout",
       "text": [
        "running galfit again - hope that is what you want!\n",
        "/Users/rfinn/research/LocalClusters/GalfitAnalysis/Hercules/24um/Hercules-99037-24-fixedBA-1Comp-galfit-out.fits\n",
        "convflag, fitBA, fitPA =  True False False\n",
        "###############\n",
        "just inside keep_BA_fixed\n",
        "fitBAflag, fitPAflag, convflag =  0 0 True\n",
        "deleting outcoords if it exists\n",
        "/Users/rfinn/research/LocalClusters/GalfitAnalysis/Hercules/24um/incoords /Users/rfinn/research/LocalClusters/GalfitAnalysis/Hercules/24um\n"
       ]
      },
      {
       "output_type": "stream",
       "stream": "stderr",
       "text": [
        "Killing IRAF task `imgets'\n"
       ]
      },
      {
       "output_type": "stream",
       "stream": "stdout",
       "text": [
        "42.0 41.0\n",
        "xcenter, ycenter = "
       ]
      },
      {
       "output_type": "stream",
       "stream": "stdout",
       "text": [
        " 21.0 20.5\n",
        "objIndex =  (array([1]),) [  8.37949521   1.31957304  12.68237967  22.62983131  23.40793447\n",
        "  26.0046133    6.16183414  20.50573639  13.44128126   5.37363648\n",
        "  10.60950786   4.30767501  13.53395567  13.76036064  12.2887608\n",
        "   6.09187295   8.00000025   7.87201886  19.63018991  11.24933456\n",
        "  13.86231124  14.92190182   8.85591492  12.14523841  15.81252681\n",
        "  17.10447339   1.70213777  11.3944282   15.23925044  14.41952898\n",
        "  25.02335879  26.23500326  10.94093031   3.45950864  14.77687524\n",
        "  14.44749961   7.11252866  10.09859678  10.19764698   7.88242862\n",
        "   8.05573808  16.5444756    7.33588638  16.55379123   5.55409219]\n",
        "object number =  2\n",
        "elliptical = "
       ]
      },
      {
       "output_type": "stream",
       "stream": "stdout",
       "text": [
        " False\n",
        "spiral =  True\n",
        "agn =  False\n"
       ]
      },
      {
       "name": "stdout",
       "output_type": "stream",
       "stream": "stdout",
       "text": [
        "hit any key when ready to continue (q to quit) \n",
        "\n"
       ]
      },
      {
       "output_type": "stream",
       "stream": "stdout",
       "text": [
        "%%%%%%%%%%%%%%%%%%%%%%%%%%\n",
        "/Users/rfinn/research/LocalClusters/GalfitAnalysis/Hercules/24um/Hercules-99037-24\n",
        "1 42.0 1 41.0 42.0\n",
        "%%%%%%%%%%%%%%%%%%%%%%%%%%\n",
        "just before calling igalfit\n",
        "fitBA =  0\n",
        "%%%%%%%%%%%%%%%%%\n",
        "inside galfit\n",
        "1 42.0 1 41.0 42.0\n",
        "psf_image =  /Users/rfinn/research/LocalClusters/PRF/mips24_prf_mosaic_2.45_4x.fits\n",
        "%%%%%%%%%%%%%%%%%\n",
        "conv, fitBA,fitPA =  True 0 0\n",
        "***%%%%%%%%%%%%%%%%%\n",
        "inside galfit class\n",
        "1 42.0 1 41.0 42.0\n",
        "1 42.0 1 41.0 42.0\n",
        "psf_image =  /Users/rfinn/research/LocalClusters/PRF/mips24_prf_mosaic_2.45_4x.fits\n",
        "self.fitall =  0\n",
        "***%%%%%%%%%%%%%%%%%\n",
        "sersic n, fitsersicn =  0.794217 1\n",
        "BA, fitBA =  0.72308 0\n",
        "run the following:  galfit /Users/rfinn/research/LocalClusters/GalfitAnalysis/Hercules/24um/Hercules-99037-24-fixedBAgalfit.input.1Comp\n",
        "appears like galfit did not complete"
       ]
      },
      {
       "output_type": "stream",
       "stream": "stdout",
       "text": [
        "\n"
       ]
      },
      {
       "name": "stdout",
       "output_type": "stream",
       "stream": "stdout",
       "text": [
        "Are you happy with the fit?  n=no x=quit y (or any other key) = yes \n",
        "y\n"
       ]
      },
      {
       "output_type": "stream",
       "stream": "stdout",
       "text": [
        "this is what I think you typed  y\n",
        "running for mips galaxies!\n",
        "/Users/rfinn/research/LocalClusters/GalfitAnalysis/Hercules/24um/Hercules-99037-24-1Comp-galfit-out.fits\n",
        "file to display =  /Users/rfinn/research/LocalClusters/GalfitAnalysis/Hercules/24um/Hercules-99037-24-1Comp-galfit-out.fits\n",
        "2"
       ]
      },
      {
       "output_type": "stream",
       "stream": "stdout",
       "text": [
        "\n",
        "3"
       ]
      },
      {
       "output_type": "stream",
       "stream": "stdout",
       "text": [
        "\n",
        "4"
       ]
      },
      {
       "output_type": "stream",
       "stream": "stdout",
       "text": [
        "\n",
        "file to display =  /Users/rfinn/research/LocalClusters/GalfitAnalysis/Hercules/24um/Hercules-99037-24-1Comp-subcomps.fits\n",
        "-----------------------------------------------------------------------------"
       ]
      },
      {
       "output_type": "stream",
       "stream": "stdout",
       "text": [
        "\n",
        "\n",
        "Input image     : Hercules-99037-galfit-cutout24.fits[1:41,1:41]\n",
        "Init. par. file : /Users/rfinn/research/LocalClusters/GalfitAnalysis/Hercules/24um/galfit.input.1Comp\n",
        "Restart file    : galfit.01\n",
        "Output image    : /Users/rfinn/research/LocalClusters/GalfitAnalysis/Hercules/24um/Hercules-99037-24-1Comp-galfit-out.fits\n",
        "\n",
        " sersic    : (   22.57,    20.91)   14.22      6.40    1.46    0.54     7.38\n",
        "             (    0.10,     0.12)    0.18      1.40    0.35    0.04     4.16\n",
        " sky       : [ 21.00,  21.00]  -2.66e-02  [0.00e+00]  [0.00e+00]\n",
        "                                4.58e-03  [0.00e+00]  [0.00e+00]\n",
        " Chi^2 = 85063.27891,  ndof = 1568\n",
        " Chi^2/nu = 54.250\n",
        "\n",
        "-----------------------------------------------------------------------------\n",
        "here is what I have for diskflag[i] = "
       ]
      },
      {
       "output_type": "stream",
       "stream": "stdout",
       "text": [
        " [1 0 0 0 0 0]\n",
        "/Users/rfinn/research/LocalClusters/GalfitAnalysis/Hercules/24um/Hercules-99037-24-1Comp-subcomps.fits[2] -> /Users/rfinn/research/LocalClusters/GalfitAnalysis/Hercules/24um/Hercules-99037-24-diskimage-1Comp.fits\n"
       ]
      },
      {
       "output_type": "stream",
       "stream": "stdout",
       "text": [
        "model_mag =  [ 14.22]\n",
        "total mag =  14.22\n",
        "add /Users/rfinn/research/LocalClusters/GalfitAnalysis/Hercules/24um/Hercules-99037-24-diskimage-1Comp.fits,MAG_TOTAL = 14.22\n",
        "/Users/rfinn/research/LocalClusters/GalfitAnalysis/Hercules/24um/Hercules-99037-24-diskimage-1Comp.fits updated\n"
       ]
      },
      {
       "output_type": "stream",
       "stream": "stdout",
       "text": [
        "add /Users/rfinn/research/LocalClusters/GalfitAnalysis/Hercules/24um/Hercules-99037-24-diskimage-1Comp.fits,COMPONENT_FLAG = 1\n",
        "/Users/rfinn/research/LocalClusters/GalfitAnalysis/Hercules/24um/Hercules-99037-24-diskimage-1Comp.fits updated\n"
       ]
      },
      {
       "output_type": "stream",
       "stream": "stdout",
       "text": [
        "*******************\n",
        "*******************\n",
        "*******************\n",
        "\n",
        "running galfit analysis for MIPS image of  Hercules - 99056\n",
        "snr24 =  17.3\n",
        "\n",
        " output image already exists \n",
        "\n",
        "/Users/rfinn/research/LocalClusters/GalfitAnalysis/Hercules/24um/Hercules-99056-24-fixedBA-1Comp-galfit-out.fits\n"
       ]
      },
      {
       "name": "stdout",
       "output_type": "stream",
       "stream": "stdout",
       "text": [
        "Run galfit again?  y (or any key)=yes n=no x=quit \n",
        "y\n"
       ]
      },
      {
       "output_type": "stream",
       "stream": "stdout",
       "text": [
        "running galfit again - hope that is what you want!\n",
        "/Users/rfinn/research/LocalClusters/GalfitAnalysis/Hercules/24um/Hercules-99056-24-fixedBA-1Comp-galfit-out.fits\n",
        "convflag, fitBA, fitPA =  True False False\n",
        "###############\n",
        "just inside keep_BA_fixed\n",
        "fitBAflag, fitPAflag, convflag =  0 0 True\n",
        "deleting outcoords if it exists\n",
        "/Users/rfinn/research/LocalClusters/GalfitAnalysis/Hercules/24um/incoords /Users/rfinn/research/LocalClusters/GalfitAnalysis/Hercules/24um\n",
        "xcenter, ycenter = "
       ]
      },
      {
       "output_type": "stream",
       "stream": "stdout",
       "text": [
        " 34.0 34.0\n",
        "objIndex =  (array([1]),) [  8.93721847   0.61641707  22.08204904  27.37036648  27.95343231\n",
        "  30.52390958  40.98853032  44.66779136  43.65021022  34.02718056\n",
        "  31.31714644  38.85751222  34.6812128   36.69162599  33.7192675\n",
        "  43.0436802    7.00257781  27.15807742  17.75019572  28.7057674\n",
        "  32.00005077  33.74888326  24.72361869  27.38469419  22.40509594\n",
        "  24.41158309  31.42826475  27.30798129  24.58043387  18.03419031\n",
        "  24.75647863  16.7270533   17.73245663  21.70587536  35.42301129\n",
        "  32.26756925  30.36507705  32.18019703  26.62949442  17.89673534\n",
        "  34.64376244  37.40800301  31.6799932   13.57687343]\n",
        "object number =  2\n",
        "elliptical = "
       ]
      },
      {
       "output_type": "stream",
       "stream": "stdout",
       "text": [
        " False\n",
        "spiral =  False\n",
        "agn =  False\n"
       ]
      },
      {
       "name": "stdout",
       "output_type": "stream",
       "stream": "stdout",
       "text": [
        "hit any key when ready to continue (q to quit) \n",
        "\n"
       ]
      },
      {
       "output_type": "stream",
       "stream": "stdout",
       "text": [
        "%%%%%%%%%%%%%%%%%%%%%%%%%%\n",
        "/Users/rfinn/research/LocalClusters/GalfitAnalysis/Hercules/24um/Hercules-99056-24\n",
        "1 68.0 1 68.0 68.0\n",
        "%%%%%%%%%%%%%%%%%%%%%%%%%%\n",
        "just before calling igalfit\n",
        "fitBA =  0\n",
        "%%%%%%%%%%%%%%%%%\n",
        "inside galfit\n",
        "1 68.0 1 68.0 68.0\n",
        "psf_image =  /Users/rfinn/research/LocalClusters/PRF/mips24_prf_mosaic_2.45_4x.fits\n",
        "%%%%%%%%%%%%%%%%%\n",
        "conv, fitBA,fitPA =  True 0 0\n",
        "***%%%%%%%%%%%%%%%%%\n",
        "inside galfit class\n",
        "1 68.0 1 68.0 68.0\n",
        "1 68.0 1 68.0 68.0\n",
        "psf_image =  /Users/rfinn/research/LocalClusters/PRF/mips24_prf_mosaic_2.45_4x.fits\n",
        "self.fitall =  0\n",
        "***%%%%%%%%%%%%%%%%%\n",
        "sersic n, fitsersicn =  1.81101 1\n",
        "BA, fitBA =  0.738283 0\n",
        "run the following:  galfit /Users/rfinn/research/LocalClusters/GalfitAnalysis/Hercules/24um/Hercules-99056-24-fixedBAgalfit.input.1Comp\n",
        "%%%%%%%%%%%%%%%%%%"
       ]
      },
      {
       "output_type": "stream",
       "stream": "stdout",
       "text": [
        "\n",
        "inside display_results\n",
        "self.galfit_flag =  1\n",
        "  1_XC : 34.89 +/-  0.04"
       ]
      },
      {
       "output_type": "stream",
       "stream": "stdout",
       "text": [
        "\n",
        "  1_YC : 34.58 +/-  0.03\n",
        " 1_MAG : 12.74 +/-  0.02\n",
        "  1_RE :  3.33 +/-  0.10\n",
        "   1_N :  2.04 +/-  0.14\n",
        "  1_AR :  0.74 +/-  0.00\n",
        "  1_PA : -67.66 +/-  0.00\n",
        " 2_SKY : -0.01 +/-  0.00\n",
        " ERROR :  0.00\n",
        "CHI2NU :  1.33\n",
        "file to display =  /Users/rfinn/research/LocalClusters/GalfitAnalysis/Hercules/24um/Hercules-99056-24-fixedBA-1Comp-subcomps.fits\n",
        "frame delete 8"
       ]
      },
      {
       "output_type": "stream",
       "stream": "stdout",
       "text": [
        "\n",
        "couldn't execute the following ds9 command :  frame delete 8\n"
       ]
      },
      {
       "name": "stdout",
       "output_type": "stream",
       "stream": "stdout",
       "text": [
        "Are you happy with the fit?  n=no x=quit y (or any other key) = yes \n",
        "y\n"
       ]
      },
      {
       "output_type": "stream",
       "stream": "stdout",
       "text": [
        "this is what I think you typed  y\n",
        "running for mips galaxies!\n",
        "/Users/rfinn/research/LocalClusters/GalfitAnalysis/Hercules/24um/Hercules-99056-24-1Comp-galfit-out.fits\n",
        "file to display =  /Users/rfinn/research/LocalClusters/GalfitAnalysis/Hercules/24um/Hercules-99056-24-1Comp-galfit-out.fits\n",
        "2"
       ]
      },
      {
       "output_type": "stream",
       "stream": "stdout",
       "text": [
        "\n",
        "3"
       ]
      },
      {
       "output_type": "stream",
       "stream": "stdout",
       "text": [
        "\n",
        "4"
       ]
      },
      {
       "output_type": "stream",
       "stream": "stdout",
       "text": [
        "\n",
        "file to display =  /Users/rfinn/research/LocalClusters/GalfitAnalysis/Hercules/24um/Hercules-99056-24-1Comp-subcomps.fits\n",
        "-----------------------------------------------------------------------------"
       ]
      },
      {
       "output_type": "stream",
       "stream": "stdout",
       "text": [
        "\n",
        "\n",
        "Input image     : Hercules-99056-galfit-cutout24.fits[1:89,1:89]\n",
        "Init. par. file : /Users/rfinn/research/LocalClusters/GalfitAnalysis/Hercules/24um/galfit.input.1Comp\n",
        "Restart file    : galfit.01\n",
        "Output image    : /Users/rfinn/research/LocalClusters/GalfitAnalysis/Hercules/24um/Hercules-99056-24-1Comp-galfit-out.fits\n",
        "\n",
        " sersic    : (   45.76,    45.53)   12.81      4.38    1.18    0.87   -80.21\n",
        "             (    0.01,     0.01)    0.01      0.07    0.02    0.01     2.62\n",
        " sky       : [ 45.00,  45.00]  -9.86e-03  [0.00e+00]  [0.00e+00]\n",
        "                                8.44e-04  [0.00e+00]  [0.00e+00]\n",
        " Chi^2 = 36782.89046,  ndof = 7291\n",
        " Chi^2/nu = 5.045\n",
        "\n",
        "-----------------------------------------------------------------------------\n",
        "here is what I have for diskflag[i] = "
       ]
      },
      {
       "output_type": "stream",
       "stream": "stdout",
       "text": [
        " [1 0 0 0 0 0]\n",
        "/Users/rfinn/research/LocalClusters/GalfitAnalysis/Hercules/24um/Hercules-99056-24-1Comp-subcomps.fits[2] -> /Users/rfinn/research/LocalClusters/GalfitAnalysis/Hercules/24um/Hercules-99056-24-diskimage-1Comp.fits\n"
       ]
      },
      {
       "output_type": "stream",
       "stream": "stdout",
       "text": [
        "model_mag =  [ 12.81]\n",
        "total mag =  12.81\n",
        "add /Users/rfinn/research/LocalClusters/GalfitAnalysis/Hercules/24um/Hercules-99056-24-diskimage-1Comp.fits,MAG_TOTAL = 12.81\n",
        "/Users/rfinn/research/LocalClusters/GalfitAnalysis/Hercules/24um/Hercules-99056-24-diskimage-1Comp.fits updated\n"
       ]
      },
      {
       "output_type": "stream",
       "stream": "stdout",
       "text": [
        "add /Users/rfinn/research/LocalClusters/GalfitAnalysis/Hercules/24um/Hercules-99056-24-diskimage-1Comp.fits,COMPONENT_FLAG = 1\n",
        "/Users/rfinn/research/LocalClusters/GalfitAnalysis/Hercules/24um/Hercules-99056-24-diskimage-1Comp.fits updated\n"
       ]
      },
      {
       "output_type": "stream",
       "stream": "stdout",
       "text": [
        "*******************\n",
        "*******************\n",
        "*******************\n",
        "\n",
        "running galfit analysis for MIPS image of  Hercules - 99059\n",
        "snr24 =  18.9\n",
        "\n",
        " output image already exists \n",
        "\n",
        "/Users/rfinn/research/LocalClusters/GalfitAnalysis/Hercules/24um/Hercules-99059-24-fixedBA-1Comp-galfit-out.fits\n"
       ]
      },
      {
       "name": "stdout",
       "output_type": "stream",
       "stream": "stdout",
       "text": [
        "Run galfit again?  y (or any key)=yes n=no x=quit \n",
        "\n"
       ]
      },
      {
       "output_type": "stream",
       "stream": "stdout",
       "text": [
        "running galfit again - hope that is what you want!\n",
        "/Users/rfinn/research/LocalClusters/GalfitAnalysis/Hercules/24um/Hercules-99059-24-fixedBA-1Comp-galfit-out.fits\n",
        "convflag, fitBA, fitPA =  True False False\n",
        "###############\n",
        "just inside keep_BA_fixed\n",
        "fitBAflag, fitPAflag, convflag =  0 0 True\n",
        "deleting outcoords if it exists\n",
        "/Users/rfinn/research/LocalClusters/GalfitAnalysis/Hercules/24um/incoords /Users/rfinn/research/LocalClusters/GalfitAnalysis/Hercules/24um\n",
        "xcenter, ycenter = "
       ]
      },
      {
       "output_type": "stream",
       "stream": "stdout",
       "text": [
        " 37.5 37.5\n",
        "objIndex =  (array([0]),) [  1.19364526  18.26750834  30.71463833  29.79103103  31.68623728\n",
        "  39.86337764  48.78567702  37.04171262  38.99322485  41.77864701\n",
        "  36.53737681  24.52370692  37.18401904  21.80085047  21.51677713\n",
        "  19.72790156  17.50748823  38.35408397   9.36855725  39.59407981\n",
        "  16.03188685  34.88079128  37.74898946  20.14175762  34.19422103\n",
        "  16.99749446  33.95068201  38.45831667  21.96999863  37.67173541\n",
        "  35.22233509  40.21248961  18.88754727  30.80554892  21.46500524\n",
        "  25.44850033  24.52848503  43.28186967  35.09801248  30.98443196\n",
        "  42.4192702   34.9084807   43.06571686  46.4382455   29.87393235\n",
        "  33.81384156  26.58252526  26.72598378  34.28402527  42.62235212]\n",
        "object number =  1\n",
        "elliptical = "
       ]
      },
      {
       "output_type": "stream",
       "stream": "stdout",
       "text": [
        " False\n",
        "spiral =  True\n",
        "agn =  True\n"
       ]
      },
      {
       "name": "stdout",
       "output_type": "stream",
       "stream": "stdout",
       "text": [
        "hit any key when ready to continue (q to quit) \n",
        "\n"
       ]
      },
      {
       "output_type": "stream",
       "stream": "stdout",
       "text": [
        "%%%%%%%%%%%%%%%%%%%%%%%%%%\n",
        "/Users/rfinn/research/LocalClusters/GalfitAnalysis/Hercules/24um/Hercules-99059-24\n",
        "1 75.0 1 75.0 75.0\n",
        "%%%%%%%%%%%%%%%%%%%%%%%%%%\n",
        "just before calling igalfit\n",
        "fitBA =  0\n",
        "%%%%%%%%%%%%%%%%%\n",
        "inside galfit\n",
        "1 75.0 1 75.0 75.0\n",
        "psf_image =  /Users/rfinn/research/LocalClusters/PRF/mips24_prf_mosaic_2.45_4x.fits\n",
        "%%%%%%%%%%%%%%%%%\n",
        "conv, fitBA,fitPA =  True 0 0\n",
        "***%%%%%%%%%%%%%%%%%\n",
        "inside galfit class\n",
        "1 75.0 1 75.0 75.0\n",
        "1 75.0 1 75.0 75.0\n",
        "psf_image =  /Users/rfinn/research/LocalClusters/PRF/mips24_prf_mosaic_2.45_4x.fits\n",
        "self.fitall =  0\n",
        "***%%%%%%%%%%%%%%%%%\n",
        "sersic n, fitsersicn =  2.53406 1\n",
        "BA, fitBA =  0.233371 0\n",
        "run the following:  galfit /Users/rfinn/research/LocalClusters/GalfitAnalysis/Hercules/24um/Hercules-99059-24-fixedBAgalfit.input.1Comp\n",
        "%%%%%%%%%%%%%%%%%%"
       ]
      },
      {
       "output_type": "stream",
       "stream": "stdout",
       "text": [
        "\n",
        "inside display_results\n",
        "self.galfit_flag =  1\n",
        "  1_XC : 36.94 +/-  0.03"
       ]
      },
      {
       "output_type": "stream",
       "stream": "stdout",
       "text": [
        "\n",
        "  1_YC : 38.92 +/-  0.02\n",
        " 1_MAG : 11.01 +/-  0.01\n",
        "  1_RE :  7.18 +/-  0.04\n",
        "   1_N :  0.20 +/-  0.01\n",
        "  1_AR :  0.23 +/-  0.00\n",
        "  1_PA : 75.88 +/-  0.00\n",
        " 2_SKY : -0.01 +/-  0.00\n",
        " ERROR :  0.00\n",
        "CHI2NU :  2.35\n",
        "file to display =  /Users/rfinn/research/LocalClusters/GalfitAnalysis/Hercules/24um/Hercules-99059-24-fixedBA-1Comp-subcomps.fits\n",
        "frame delete 8"
       ]
      },
      {
       "output_type": "stream",
       "stream": "stdout",
       "text": [
        "\n",
        "couldn't execute the following ds9 command :  frame delete 8\n"
       ]
      },
      {
       "name": "stdout",
       "output_type": "stream",
       "stream": "stdout",
       "text": [
        "Are you happy with the fit?  n=no x=quit y (or any other key) = yes \n",
        "n\n"
       ]
      },
      {
       "output_type": "stream",
       "stream": "stdout",
       "text": [
        "this is what I think you typed  n\n",
        "CURRENT INPUTS: \n",
        " mag = 12.73 1 \n",
        " Re =  7.31 1 \n",
        " n =  2.53 1\n",
        " B/A =  0.23 0 \n",
        " PA = 75.88 0 \n",
        " fitall = 0 \n",
        " fitcenter = 1 \n",
        "\n"
       ]
      },
      {
       "name": "stdout",
       "output_type": "stream",
       "stream": "stdout",
       "text": [
        "What is wrong?\n",
        " n = adjust sersic \n",
        " r = reset Re \n",
        " o = nearby object (toggle fitall) \n",
        " b = B/A \n",
        " p = PA \n",
        " m = mag \n",
        " c = recenter \n",
        " f = hold values fixed \n",
        " a = toggle asymmetry parameter \n",
        " R = reset to original values \n",
        " g = go (run galfit) \n",
        " x=quit \n",
        " r\n"
       ]
      },
      {
       "name": "stdout",
       "output_type": "stream",
       "stream": "stdout",
       "text": [
        "radius = 10\n"
       ]
      },
      {
       "output_type": "stream",
       "stream": "stdout",
       "text": [
        "CURRENT INPUTS: \n",
        " mag = 12.73 1 \n",
        " Re = 10.00 1 \n",
        " n =  2.53 1\n",
        " B/A =  0.23 0 \n",
        " PA = 75.88 0 \n",
        " fitall = 0 \n",
        " fitcenter = 1 \n",
        "\n"
       ]
      },
      {
       "name": "stdout",
       "output_type": "stream",
       "stream": "stdout",
       "text": [
        "What is wrong?\n",
        " n = adjust sersic \n",
        " r = reset Re \n",
        " o = nearby object (toggle fitall) \n",
        " b = B/A \n",
        " p = PA \n",
        " m = mag \n",
        " c = recenter \n",
        " f = hold values fixed \n",
        " a = toggle asymmetry parameter \n",
        " R = reset to original values \n",
        " g = go (run galfit) \n",
        " x=quit \n",
        " g\n"
       ]
      },
      {
       "output_type": "stream",
       "stream": "stdout",
       "text": [
        "sersic n, fitsersicn =  2.53406 1\n",
        "BA, fitBA =  0.233371 0\n",
        "run the following:  galfit /Users/rfinn/research/LocalClusters/GalfitAnalysis/Hercules/24um/Hercules-99059-24-fixedBAgalfit.input.1Comp\n",
        "%%%%%%%%%%%%%%%%%%"
       ]
      },
      {
       "output_type": "stream",
       "stream": "stdout",
       "text": [
        "\n",
        "inside display_results\n",
        "self.galfit_flag =  1\n",
        "  1_XC : 36.94 +/-  0.03"
       ]
      },
      {
       "output_type": "stream",
       "stream": "stdout",
       "text": [
        "\n",
        "  1_YC : 38.92 +/-  0.02\n",
        " 1_MAG : 11.01 +/-  0.01\n",
        "  1_RE :  7.18 +/-  0.04\n",
        "   1_N :  0.20 +/-  0.01\n",
        "  1_AR :  0.23 +/-  0.00\n",
        "  1_PA : 75.88 +/-  0.00\n",
        " 2_SKY : -0.01 +/-  0.00\n",
        " ERROR :  0.00\n",
        "CHI2NU :  2.35\n",
        "file to display =  /Users/rfinn/research/LocalClusters/GalfitAnalysis/Hercules/24um/Hercules-99059-24-fixedBA-1Comp-subcomps.fits\n",
        "frame delete 8"
       ]
      },
      {
       "output_type": "stream",
       "stream": "stdout",
       "text": [
        "\n",
        "couldn't execute the following ds9 command :  frame delete 8\n"
       ]
      },
      {
       "name": "stdout",
       "output_type": "stream",
       "stream": "stdout",
       "text": [
        "Are you happy with the fit?  n=no x=quit y (or any other key) = yes \n",
        "\n"
       ]
      },
      {
       "output_type": "stream",
       "stream": "stdout",
       "text": [
        "this is what I think you typed  \n",
        "not sure what you entered, so setting repeat_flag = False\n",
        "running for mips galaxies!\n",
        "/Users/rfinn/research/LocalClusters/GalfitAnalysis/Hercules/24um/Hercules-99059-24-1Comp-galfit-out.fits\n",
        "file to display =  /Users/rfinn/research/LocalClusters/GalfitAnalysis/Hercules/24um/Hercules-99059-24-1Comp-galfit-out.fits\n",
        "2"
       ]
      },
      {
       "output_type": "stream",
       "stream": "stdout",
       "text": [
        "\n",
        "3"
       ]
      },
      {
       "output_type": "stream",
       "stream": "stdout",
       "text": [
        "\n",
        "4"
       ]
      },
      {
       "output_type": "stream",
       "stream": "stdout",
       "text": [
        "\n",
        "file to display =  /Users/rfinn/research/LocalClusters/GalfitAnalysis/Hercules/24um/Hercules-99059-24-1Comp-subcomps.fits\n",
        "-----------------------------------------------------------------------------"
       ]
      },
      {
       "output_type": "stream",
       "stream": "stdout",
       "text": [
        "\n",
        "\n",
        "Input image     : Hercules-99059-galfit-cutout24.fits[1:127,1:127]\n",
        "Init. par. file : /Users/rfinn/research/LocalClusters/GalfitAnalysis/Hercules/24um/galfit.input.1Comp\n",
        "Restart file    : galfit.01\n",
        "Output image    : /Users/rfinn/research/LocalClusters/GalfitAnalysis/Hercules/24um/Hercules-99059-24-1Comp-galfit-out.fits\n",
        "\n",
        " sersic    : (   63.63,    64.61)   11.15      6.41    0.43    0.15    71.08\n",
        "             (    0.02,     0.01)    0.00      0.02    0.01    0.00     0.09\n",
        " sky       : [ 64.00,  64.00]  -5.55e-03  [0.00e+00]  [0.00e+00]\n",
        "                                9.44e-04  [0.00e+00]  [0.00e+00]\n",
        " Chi^2 = 200987.09727,  ndof = 15149\n",
        " Chi^2/nu = 13.267\n",
        "\n",
        "-----------------------------------------------------------------------------\n",
        "here is what I have for diskflag[i] = "
       ]
      },
      {
       "output_type": "stream",
       "stream": "stdout",
       "text": [
        " [1 0 0 0 0 0]\n",
        "/Users/rfinn/research/LocalClusters/GalfitAnalysis/Hercules/24um/Hercules-99059-24-1Comp-subcomps.fits[2] -> /Users/rfinn/research/LocalClusters/GalfitAnalysis/Hercules/24um/Hercules-99059-24-diskimage-1Comp.fits\n"
       ]
      },
      {
       "output_type": "stream",
       "stream": "stdout",
       "text": [
        "model_mag =  [ 11.15]\n",
        "total mag =  11.15\n",
        "add /Users/rfinn/research/LocalClusters/GalfitAnalysis/Hercules/24um/Hercules-99059-24-diskimage-1Comp.fits,MAG_TOTAL = 11.15\n",
        "/Users/rfinn/research/LocalClusters/GalfitAnalysis/Hercules/24um/Hercules-99059-24-diskimage-1Comp.fits updated\n"
       ]
      },
      {
       "output_type": "stream",
       "stream": "stdout",
       "text": [
        "add /Users/rfinn/research/LocalClusters/GalfitAnalysis/Hercules/24um/Hercules-99059-24-diskimage-1Comp.fits,COMPONENT_FLAG = 1\n",
        "/Users/rfinn/research/LocalClusters/GalfitAnalysis/Hercules/24um/Hercules-99059-24-diskimage-1Comp.fits updated\n"
       ]
      },
      {
       "output_type": "stream",
       "stream": "stdout",
       "text": [
        "*******************\n",
        "*******************\n",
        "*******************\n",
        "\n",
        "running galfit analysis for MIPS image of  Hercules - 99060\n",
        "snr24 =  7.71\n",
        "\n",
        " output image already exists \n",
        "\n",
        "/Users/rfinn/research/LocalClusters/GalfitAnalysis/Hercules/24um/Hercules-99060-24-fixedBA-1Comp-galfit-out.fits\n"
       ]
      },
      {
       "name": "stdout",
       "output_type": "stream",
       "stream": "stdout",
       "text": [
        "Run galfit again?  y (or any key)=yes n=no x=quit \n",
        "y\n"
       ]
      },
      {
       "output_type": "stream",
       "stream": "stdout",
       "text": [
        "running galfit again - hope that is what you want!\n",
        "/Users/rfinn/research/LocalClusters/GalfitAnalysis/Hercules/24um/Hercules-99060-24-fixedBA-1Comp-galfit-out.fits\n",
        "convflag, fitBA, fitPA =  True False False\n",
        "###############\n",
        "just inside keep_BA_fixed\n",
        "fitBAflag, fitPAflag, convflag =  0 0 True\n",
        "deleting outcoords if it exists\n",
        "/Users/rfinn/research/LocalClusters/GalfitAnalysis/Hercules/24um/incoords /Users/rfinn/research/LocalClusters/GalfitAnalysis/Hercules/24um\n",
        "xcenter, ycenter = "
       ]
      },
      {
       "output_type": "stream",
       "stream": "stdout",
       "text": [
        " 19.0 19.0\n",
        "objIndex =  (array([1]),) [ 19.35889493   1.17867468  22.91042656  24.35615865  19.88218137\n",
        "  18.17471309  11.307555    16.86339447  23.04838606  10.22855689\n",
        "  15.35771601  11.01473785   4.94181283  17.51610291  18.26857685\n",
        "   7.93674373]\n",
        "object number =  2\n",
        "elliptical = "
       ]
      },
      {
       "output_type": "stream",
       "stream": "stdout",
       "text": [
        " False\n",
        "spiral =  True\n",
        "agn =  False\n"
       ]
      },
      {
       "name": "stdout",
       "output_type": "stream",
       "stream": "stdout",
       "text": [
        "hit any key when ready to continue (q to quit) \n",
        "\n"
       ]
      },
      {
       "output_type": "stream",
       "stream": "stdout",
       "text": [
        "%%%%%%%%%%%%%%%%%%%%%%%%%%\n",
        "/Users/rfinn/research/LocalClusters/GalfitAnalysis/Hercules/24um/Hercules-99060-24\n",
        "1 38.0 1 38.0 38.0\n",
        "%%%%%%%%%%%%%%%%%%%%%%%%%%\n",
        "just before calling igalfit\n",
        "fitBA =  0\n",
        "%%%%%%%%%%%%%%%%%\n",
        "inside galfit\n",
        "1 38.0 1 38.0 38.0\n",
        "psf_image =  /Users/rfinn/research/LocalClusters/PRF/mips24_prf_mosaic_2.45_4x.fits\n",
        "%%%%%%%%%%%%%%%%%\n",
        "conv, fitBA,fitPA =  True 0 0\n",
        "***%%%%%%%%%%%%%%%%%\n",
        "inside galfit class\n",
        "1 38.0 1 38.0 38.0\n",
        "1 38.0 1 38.0 38.0\n",
        "psf_image =  /Users/rfinn/research/LocalClusters/PRF/mips24_prf_mosaic_2.45_4x.fits\n",
        "self.fitall =  0\n",
        "***%%%%%%%%%%%%%%%%%\n",
        "sersic n, fitsersicn =  1.34276 1\n",
        "BA, fitBA =  0.91022 0\n",
        "run the following:  galfit /Users/rfinn/research/LocalClusters/GalfitAnalysis/Hercules/24um/Hercules-99060-24-fixedBAgalfit.input.1Comp\n",
        "appears like galfit did not complete"
       ]
      },
      {
       "output_type": "stream",
       "stream": "stdout",
       "text": [
        "\n"
       ]
      },
      {
       "name": "stdout",
       "output_type": "stream",
       "stream": "stdout",
       "text": [
        "Are you happy with the fit?  n=no x=quit y (or any other key) = yes \n",
        "n\n"
       ]
      },
      {
       "output_type": "stream",
       "stream": "stdout",
       "text": [
        "this is what I think you typed  n\n",
        "CURRENT INPUTS: \n",
        " mag = 16.05 1 \n",
        " Re =  1.72 1 \n",
        " n =  1.34 1\n",
        " B/A =  0.91 0 \n",
        " PA = 139.66 0 \n",
        " fitall = 0 \n",
        " fitcenter = 1 \n",
        "\n"
       ]
      },
      {
       "name": "stdout",
       "output_type": "stream",
       "stream": "stdout",
       "text": [
        "What is wrong?\n",
        " n = adjust sersic \n",
        " r = reset Re \n",
        " o = nearby object (toggle fitall) \n",
        " b = B/A \n",
        " p = PA \n",
        " m = mag \n",
        " c = recenter \n",
        " f = hold values fixed \n",
        " a = toggle asymmetry parameter \n",
        " R = reset to original values \n",
        " g = go (run galfit) \n",
        " x=quit \n",
        " r\n"
       ]
      },
      {
       "name": "stdout",
       "output_type": "stream",
       "stream": "stdout",
       "text": [
        "radius = 3\n"
       ]
      },
      {
       "output_type": "stream",
       "stream": "stdout",
       "text": [
        "CURRENT INPUTS: \n",
        " mag = 16.05 1 \n",
        " Re =  3.00 1 \n",
        " n =  1.34 1\n",
        " B/A =  0.91 0 \n",
        " PA = 139.66 0 \n",
        " fitall = 0 \n",
        " fitcenter = 1 \n",
        "\n"
       ]
      },
      {
       "name": "stdout",
       "output_type": "stream",
       "stream": "stdout",
       "text": [
        "What is wrong?\n",
        " n = adjust sersic \n",
        " r = reset Re \n",
        " o = nearby object (toggle fitall) \n",
        " b = B/A \n",
        " p = PA \n",
        " m = mag \n",
        " c = recenter \n",
        " f = hold values fixed \n",
        " a = toggle asymmetry parameter \n",
        " R = reset to original values \n",
        " g = go (run galfit) \n",
        " x=quit \n",
        " g\n"
       ]
      },
      {
       "output_type": "stream",
       "stream": "stdout",
       "text": [
        "sersic n, fitsersicn =  1.34276 1\n",
        "BA, fitBA =  0.91022 0\n",
        "run the following:  galfit /Users/rfinn/research/LocalClusters/GalfitAnalysis/Hercules/24um/Hercules-99060-24-fixedBAgalfit.input.1Comp\n",
        "%%%%%%%%%%%%%%%%%%"
       ]
      },
      {
       "output_type": "stream",
       "stream": "stdout",
       "text": [
        "\n",
        "inside display_results\n",
        "self.galfit_flag =  1\n",
        "  1_XC : 19.57 +/-  0.04"
       ]
      },
      {
       "output_type": "stream",
       "stream": "stdout",
       "text": [
        "\n",
        "  1_YC : 19.75 +/-  0.05\n",
        " 1_MAG : 15.42 +/-  0.03\n",
        "  1_RE :  1.23 +/-  0.09\n",
        "   1_N :  0.07 +/-  1.00\n",
        "  1_AR :  0.91 +/-  0.00\n",
        "  1_PA : -40.34 +/-  0.00\n",
        " 2_SKY : -0.00 +/-  0.00\n",
        " ERROR :  0.00\n",
        "CHI2NU :  1.17\n",
        "file to display =  /Users/rfinn/research/LocalClusters/GalfitAnalysis/Hercules/24um/Hercules-99060-24-fixedBA-1Comp-subcomps.fits\n",
        "frame delete 8"
       ]
      },
      {
       "output_type": "stream",
       "stream": "stdout",
       "text": [
        "\n",
        "couldn't execute the following ds9 command :  frame delete 8\n"
       ]
      },
      {
       "name": "stdout",
       "output_type": "stream",
       "stream": "stdout",
       "text": [
        "Are you happy with the fit?  n=no x=quit y (or any other key) = yes \n",
        "\n"
       ]
      },
      {
       "output_type": "stream",
       "stream": "stdout",
       "text": [
        "this is what I think you typed  \n",
        "not sure what you entered, so setting repeat_flag = False\n",
        "running for mips galaxies!\n",
        "/Users/rfinn/research/LocalClusters/GalfitAnalysis/Hercules/24um/Hercules-99060-24-1Comp-galfit-out.fits\n",
        "file to display =  /Users/rfinn/research/LocalClusters/GalfitAnalysis/Hercules/24um/Hercules-99060-24-1Comp-galfit-out.fits\n",
        "2"
       ]
      },
      {
       "output_type": "stream",
       "stream": "stdout",
       "text": [
        "\n",
        "3"
       ]
      },
      {
       "output_type": "stream",
       "stream": "stdout",
       "text": [
        "\n",
        "4"
       ]
      },
      {
       "output_type": "stream",
       "stream": "stdout",
       "text": [
        "\n",
        "file to display =  /Users/rfinn/research/LocalClusters/GalfitAnalysis/Hercules/24um/Hercules-99060-24-1Comp-subcomps.fits\n",
        "-----------------------------------------------------------------------------"
       ]
      },
      {
       "output_type": "stream",
       "stream": "stdout",
       "text": [
        "\n",
        "\n",
        "Input image     : Hercules-99060-galfit-cutout24.fits[1:41,1:41]\n",
        "Init. par. file : /Users/rfinn/research/LocalClusters/GalfitAnalysis/Hercules/24um/galfit.input.1Comp\n",
        "Restart file    : galfit.01\n",
        "Output image    : /Users/rfinn/research/LocalClusters/GalfitAnalysis/Hercules/24um/Hercules-99060-24-1Comp-galfit-out.fits\n",
        "\n",
        " sersic    : (   21.61,    21.72)   15.61      2.12    0.69    0.88   -52.34\n",
        "             (    0.06,     0.04)    0.05      0.11    0.06    0.04    14.18\n",
        " sky       : [ 21.00,  21.00]  -4.44e-04  [0.00e+00]  [0.00e+00]\n",
        "                                1.64e-03  [0.00e+00]  [0.00e+00]\n",
        " Chi^2 = 6421.99812,  ndof = 1560\n",
        " Chi^2/nu = 4.117\n",
        "\n",
        "-----------------------------------------------------------------------------\n",
        "here is what I have for diskflag[i] = "
       ]
      },
      {
       "output_type": "stream",
       "stream": "stdout",
       "text": [
        " [1 0 0 0 0 0]\n",
        "/Users/rfinn/research/LocalClusters/GalfitAnalysis/Hercules/24um/Hercules-99060-24-1Comp-subcomps.fits[2] -> /Users/rfinn/research/LocalClusters/GalfitAnalysis/Hercules/24um/Hercules-99060-24-diskimage-1Comp.fits\n"
       ]
      },
      {
       "output_type": "stream",
       "stream": "stdout",
       "text": [
        "model_mag =  [ 15.61]\n",
        "total mag =  15.61\n",
        "add /Users/rfinn/research/LocalClusters/GalfitAnalysis/Hercules/24um/Hercules-99060-24-diskimage-1Comp.fits,MAG_TOTAL = 15.61\n",
        "/Users/rfinn/research/LocalClusters/GalfitAnalysis/Hercules/24um/Hercules-99060-24-diskimage-1Comp.fits updated\n"
       ]
      },
      {
       "output_type": "stream",
       "stream": "stdout",
       "text": [
        "add /Users/rfinn/research/LocalClusters/GalfitAnalysis/Hercules/24um/Hercules-99060-24-diskimage-1Comp.fits,COMPONENT_FLAG = 1\n",
        "/Users/rfinn/research/LocalClusters/GalfitAnalysis/Hercules/24um/Hercules-99060-24-diskimage-1Comp.fits updated\n"
       ]
      },
      {
       "output_type": "stream",
       "stream": "stdout",
       "text": [
        "*******************\n",
        "*******************\n",
        "*******************\n",
        "\n",
        "running galfit analysis for MIPS image of  Hercules - 99084\n",
        "snr24 =  9.44\n",
        "\n",
        " output image already exists \n",
        "\n",
        "/Users/rfinn/research/LocalClusters/GalfitAnalysis/Hercules/24um/Hercules-99084-24-fixedBA-1Comp-galfit-out.fits\n"
       ]
      },
      {
       "name": "stdout",
       "output_type": "stream",
       "stream": "stdout",
       "text": [
        "Run galfit again?  y (or any key)=yes n=no x=quit \n",
        "y\n"
       ]
      },
      {
       "output_type": "stream",
       "stream": "stdout",
       "text": [
        "running galfit again - hope that is what you want!\n",
        "/Users/rfinn/research/LocalClusters/GalfitAnalysis/Hercules/24um/Hercules-99084-24-fixedBA-1Comp-galfit-out.fits\n",
        "convflag, fitBA, fitPA =  True False False\n",
        "###############\n",
        "just inside keep_BA_fixed\n",
        "fitBAflag, fitPAflag, convflag =  0 0 True\n",
        "deleting outcoords if it exists\n",
        "/Users/rfinn/research/LocalClusters/GalfitAnalysis/Hercules/24um/incoords /Users/rfinn/research/LocalClusters/GalfitAnalysis/Hercules/24um\n",
        "xcenter, ycenter = "
       ]
      },
      {
       "output_type": "stream",
       "stream": "stdout",
       "text": [
        " 23.0 22.5\n",
        "objIndex =  (array([1]),) [ 22.53331622   0.92917706  12.54475847  26.96150146  22.1770512\n",
        "  21.91247978  11.78912384  22.39392116   9.20316782  21.01940727\n",
        "  12.84346406  25.62917098  17.86893438  13.78489409  21.48059499\n",
        "  12.58684138  19.14849542  17.56023348]\n",
        "object number =  2\n",
        "elliptical = "
       ]
      },
      {
       "output_type": "stream",
       "stream": "stdout",
       "text": [
        " True\n",
        "spiral =  False\n",
        "agn =  False\n"
       ]
      },
      {
       "name": "stdout",
       "output_type": "stream",
       "stream": "stdout",
       "text": [
        "hit any key when ready to continue (q to quit) \n",
        "\n"
       ]
      },
      {
       "output_type": "stream",
       "stream": "stdout",
       "text": [
        "%%%%%%%%%%%%%%%%%%%%%%%%%%\n",
        "/Users/rfinn/research/LocalClusters/GalfitAnalysis/Hercules/24um/Hercules-99084-24\n",
        "1 46.0 1 45.0 46.0\n",
        "%%%%%%%%%%%%%%%%%%%%%%%%%%\n",
        "just before calling igalfit\n",
        "fitBA =  0\n",
        "%%%%%%%%%%%%%%%%%\n",
        "inside galfit\n",
        "1 46.0 1 45.0 46.0\n",
        "psf_image =  /Users/rfinn/research/LocalClusters/PRF/mips24_prf_mosaic_2.45_4x.fits\n",
        "%%%%%%%%%%%%%%%%%\n",
        "conv, fitBA,fitPA =  True 0 0\n",
        "***%%%%%%%%%%%%%%%%%\n",
        "inside galfit class\n",
        "1 46.0 1 45.0 46.0\n",
        "1 46.0 1 45.0 46.0\n",
        "psf_image =  /Users/rfinn/research/LocalClusters/PRF/mips24_prf_mosaic_2.45_4x.fits\n",
        "self.fitall =  0\n",
        "***%%%%%%%%%%%%%%%%%\n",
        "sersic n, fitsersicn =  5.96805 1\n",
        "BA, fitBA =  0.756128 0\n",
        "run the following:  galfit /Users/rfinn/research/LocalClusters/GalfitAnalysis/Hercules/24um/Hercules-99084-24-fixedBAgalfit.input.1Comp\n",
        "%%%%%%%%%%%%%%%%%%"
       ]
      },
      {
       "output_type": "stream",
       "stream": "stdout",
       "text": [
        "\n",
        "inside display_results\n",
        "self.galfit_flag =  1\n",
        "  1_XC : 23.50 +/-  0.06"
       ]
      },
      {
       "output_type": "stream",
       "stream": "stdout",
       "text": [
        "\n",
        "  1_YC : 23.39 +/-  0.06\n",
        " 1_MAG : 14.86 +/-  0.75\n",
        "  1_RE :  0.10 +/-  0.27\n",
        "   1_N : 12.94 +/- 29.21\n",
        "  1_AR :  0.76 +/-  0.00\n",
        "  1_PA : 59.53 +/-  0.00\n",
        " 2_SKY : -0.00 +/-  0.00\n",
        " ERROR :  1.00\n",
        "CHI2NU :  1.18\n",
        "file to display =  /Users/rfinn/research/LocalClusters/GalfitAnalysis/Hercules/24um/Hercules-99084-24-fixedBA-1Comp-subcomps.fits\n",
        "frame delete 8"
       ]
      },
      {
       "output_type": "stream",
       "stream": "stdout",
       "text": [
        "\n",
        "couldn't execute the following ds9 command :  frame delete 8\n"
       ]
      },
      {
       "name": "stdout",
       "output_type": "stream",
       "stream": "stdout",
       "text": [
        "Are you happy with the fit?  n=no x=quit y (or any other key) = yes \n",
        "\n"
       ]
      },
      {
       "output_type": "stream",
       "stream": "stdout",
       "text": [
        "this is what I think you typed  \n",
        "not sure what you entered, so setting repeat_flag = False\n",
        "running for mips galaxies!\n",
        "/Users/rfinn/research/LocalClusters/GalfitAnalysis/Hercules/24um/Hercules-99084-24-1Comp-galfit-out.fits\n",
        "file to display = "
       ]
      },
      {
       "output_type": "stream",
       "stream": "stdout",
       "text": [
        " /Users/rfinn/research/LocalClusters/GalfitAnalysis/Hercules/24um/Hercules-99084-24-1Comp-galfit-out.fits\n",
        "2"
       ]
      },
      {
       "output_type": "stream",
       "stream": "stdout",
       "text": [
        "\n",
        "3"
       ]
      },
      {
       "output_type": "stream",
       "stream": "stdout",
       "text": [
        "\n",
        "4"
       ]
      },
      {
       "output_type": "stream",
       "stream": "stdout",
       "text": [
        "\n",
        "file to display =  /Users/rfinn/research/LocalClusters/GalfitAnalysis/Hercules/24um/Hercules-99084-24-1Comp-subcomps.fits\n",
        "-----------------------------------------------------------------------------"
       ]
      },
      {
       "output_type": "stream",
       "stream": "stdout",
       "text": [
        "\n",
        "\n",
        "Input image     : Hercules-99084-galfit-cutout24.fits[1:59,1:59]\n",
        "Init. par. file : /Users/rfinn/research/LocalClusters/GalfitAnalysis/Hercules/24um/galfit.input.1Comp\n",
        "Restart file    : galfit.01\n",
        "Output image    : /Users/rfinn/research/LocalClusters/GalfitAnalysis/Hercules/24um/Hercules-99084-24-1Comp-galfit-out.fits\n",
        "\n",
        " sersic    : (   30.54,    30.45)   14.90      2.65    1.89    0.94   -88.39\n",
        "             (    0.02,     0.02)    0.07      0.26    0.19    0.04    20.45\n",
        " sky       : [ 30.00,  30.00]  -5.50e-03  [0.00e+00]  [0.00e+00]\n",
        "                                1.19e-03  [0.00e+00]  [0.00e+00]\n",
        " Chi^2 = 15080.68030,  ndof = 3220\n",
        " Chi^2/nu = 4.683\n",
        "\n",
        "-----------------------------------------------------------------------------\n",
        "here is what I have for diskflag[i] = "
       ]
      },
      {
       "output_type": "stream",
       "stream": "stdout",
       "text": [
        " [1 0 0 0 0 0]\n",
        "/Users/rfinn/research/LocalClusters/GalfitAnalysis/Hercules/24um/Hercules-99084-24-1Comp-subcomps.fits[2] -> /Users/rfinn/research/LocalClusters/GalfitAnalysis/Hercules/24um/Hercules-99084-24-diskimage-1Comp.fits\n"
       ]
      },
      {
       "output_type": "stream",
       "stream": "stdout",
       "text": [
        "model_mag =  [ 14.9]\n",
        "total mag =  14.9\n",
        "add /Users/rfinn/research/LocalClusters/GalfitAnalysis/Hercules/24um/Hercules-99084-24-diskimage-1Comp.fits,MAG_TOTAL = 14.9\n",
        "/Users/rfinn/research/LocalClusters/GalfitAnalysis/Hercules/24um/Hercules-99084-24-diskimage-1Comp.fits updated\n"
       ]
      },
      {
       "output_type": "stream",
       "stream": "stdout",
       "text": [
        "add /Users/rfinn/research/LocalClusters/GalfitAnalysis/Hercules/24um/Hercules-99084-24-diskimage-1Comp.fits,COMPONENT_FLAG = 1\n",
        "/Users/rfinn/research/LocalClusters/GalfitAnalysis/Hercules/24um/Hercules-99084-24-diskimage-1Comp.fits updated\n"
       ]
      },
      {
       "output_type": "stream",
       "stream": "stdout",
       "text": [
        "*******************\n",
        "*******************\n",
        "*******************\n",
        "\n",
        "running galfit analysis for MIPS image of  Hercules - 99478\n",
        "snr24 =  5.82\n",
        "\n",
        " output image already exists \n",
        "\n",
        "/Users/rfinn/research/LocalClusters/GalfitAnalysis/Hercules/24um/Hercules-99478-24-fixedBA-1Comp-galfit-out.fits\n"
       ]
      },
      {
       "name": "stdout",
       "output_type": "stream",
       "stream": "stdout",
       "text": [
        "Run galfit again?  y (or any key)=yes n=no x=quit \n",
        "y\n"
       ]
      },
      {
       "output_type": "stream",
       "stream": "stdout",
       "text": [
        "running galfit again - hope that is what you want!\n",
        "/Users/rfinn/research/LocalClusters/GalfitAnalysis/Hercules/24um/Hercules-99478-24-fixedBA-1Comp-galfit-out.fits\n",
        "convflag, fitBA, fitPA =  True False False\n",
        "###############\n",
        "just inside keep_BA_fixed\n",
        "fitBAflag, fitPAflag, convflag =  0 0 True\n",
        "deleting outcoords if it exists\n",
        "/Users/rfinn/research/LocalClusters/GalfitAnalysis/Hercules/24um/incoords /Users/rfinn/research/LocalClusters/GalfitAnalysis/Hercules/24um\n"
       ]
      },
      {
       "output_type": "stream",
       "stream": "stderr",
       "text": [
        "Killing IRAF task `imgets'\n"
       ]
      },
      {
       "output_type": "stream",
       "stream": "stdout",
       "text": [
        "38.0 38.0\n",
        "xcenter, ycenter = "
       ]
      },
      {
       "output_type": "stream",
       "stream": "stdout",
       "text": [
        " 19.0 19.0\n",
        "objIndex =  (array([ 0, 15]),) [  1.6308602   19.803814    19.07520155  13.59383128  25.37793262\n",
        "  17.88048872  17.64716952  13.5576845   10.47532577   5.0141404\n",
        "  23.3362755   12.26940296  13.22743951  21.49564628  22.15836763\n",
        "   1.6308602   19.803814    19.07520155  13.59383128  25.37793262\n",
        "  17.88048872  22.15836763  17.64716952  13.5576845   10.47532577\n",
        "   5.0141404   23.3362755   14.66337042  13.22743951  12.26940296\n",
        "  21.49564628]\n",
        "object number =  1\n",
        "elliptical = "
       ]
      },
      {
       "output_type": "stream",
       "stream": "stdout",
       "text": [
        " False\n",
        "spiral =  True\n",
        "agn =  False\n"
       ]
      },
      {
       "name": "stdout",
       "output_type": "stream",
       "stream": "stdout",
       "text": [
        "hit any key when ready to continue (q to quit) \n",
        "\n"
       ]
      },
      {
       "output_type": "stream",
       "stream": "stdout",
       "text": [
        "%%%%%%%%%%%%%%%%%%%%%%%%%%\n",
        "/Users/rfinn/research/LocalClusters/GalfitAnalysis/Hercules/24um/Hercules-99478-24\n",
        "1 38.0 1 38.0 38.0\n",
        "%%%%%%%%%%%%%%%%%%%%%%%%%%\n",
        "just before calling igalfit\n",
        "fitBA =  0\n",
        "%%%%%%%%%%%%%%%%%\n",
        "inside galfit\n",
        "1 38.0 1 38.0 38.0\n",
        "psf_image =  /Users/rfinn/research/LocalClusters/PRF/mips24_prf_mosaic_2.45_4x.fits\n",
        "%%%%%%%%%%%%%%%%%\n",
        "conv, fitBA,fitPA =  True 0 0\n",
        "***%%%%%%%%%%%%%%%%%\n",
        "inside galfit class\n",
        "1 38.0 1 38.0 38.0\n",
        "1 38.0 1 38.0 38.0\n",
        "psf_image =  /Users/rfinn/research/LocalClusters/PRF/mips24_prf_mosaic_2.45_4x.fits\n",
        "self.fitall =  0\n",
        "***%%%%%%%%%%%%%%%%%\n",
        "sersic n, fitsersicn =  1.12914 1\n",
        "BA, fitBA =  0.355501 0\n",
        "run the following:  galfit /Users/rfinn/research/LocalClusters/GalfitAnalysis/Hercules/24um/Hercules-99478-24-fixedBAgalfit.input.1Comp\n",
        "%%%%%%%%%%%%%%%%%%"
       ]
      },
      {
       "output_type": "stream",
       "stream": "stdout",
       "text": [
        "\n",
        "inside display_results\n",
        "self.galfit_flag =  1\n",
        "  1_XC : 19.82 +/-  0.08"
       ]
      },
      {
       "output_type": "stream",
       "stream": "stdout",
       "text": [
        "\n",
        "  1_YC : 19.70 +/-  0.08\n",
        " 1_MAG : 15.60 +/-  0.06\n",
        "  1_RE :  2.06 +/-  4.44\n",
        "   1_N :  0.03 +/-  0.27\n",
        "  1_AR :  0.36 +/-  0.00\n",
        "  1_PA : -45.21 +/-  0.00\n",
        " 2_SKY : -0.00 +/-  0.00\n",
        " ERROR :  1.00\n",
        "CHI2NU :  1.27\n",
        "file to display =  /Users/rfinn/research/LocalClusters/GalfitAnalysis/Hercules/24um/Hercules-99478-24-fixedBA-1Comp-subcomps.fits\n",
        "frame delete 8"
       ]
      },
      {
       "output_type": "stream",
       "stream": "stdout",
       "text": [
        "\n",
        "couldn't execute the following ds9 command :  frame delete 8\n"
       ]
      },
      {
       "name": "stdout",
       "output_type": "stream",
       "stream": "stdout",
       "text": [
        "Are you happy with the fit?  n=no x=quit y (or any other key) = yes \n",
        "y\n"
       ]
      },
      {
       "output_type": "stream",
       "stream": "stdout",
       "text": [
        "this is what I think you typed  y\n",
        "running for mips galaxies!\n",
        "/Users/rfinn/research/LocalClusters/GalfitAnalysis/Hercules/24um/Hercules-99478-24-1Comp-galfit-out.fits\n",
        "file to display = "
       ]
      },
      {
       "output_type": "stream",
       "stream": "stdout",
       "text": [
        " /Users/rfinn/research/LocalClusters/GalfitAnalysis/Hercules/24um/Hercules-99478-24-1Comp-galfit-out.fits\n",
        "2"
       ]
      },
      {
       "output_type": "stream",
       "stream": "stdout",
       "text": [
        "\n",
        "3"
       ]
      },
      {
       "output_type": "stream",
       "stream": "stdout",
       "text": [
        "\n",
        "4"
       ]
      },
      {
       "output_type": "stream",
       "stream": "stdout",
       "text": [
        "\n",
        "file to display =  /Users/rfinn/research/LocalClusters/GalfitAnalysis/Hercules/24um/Hercules-99478-24-1Comp-subcomps.fits\n",
        "-----------------------------------------------------------------------------"
       ]
      },
      {
       "output_type": "stream",
       "stream": "stdout",
       "text": [
        "\n",
        "\n",
        "Input image     : Hercules-99478-galfit-cutout24.fits[1:41,1:41]\n",
        "Init. par. file : /Users/rfinn/research/LocalClusters/GalfitAnalysis/Hercules/24um/galfit.input.1Comp\n",
        "Restart file    : galfit.01\n",
        "Output image    : /Users/rfinn/research/LocalClusters/GalfitAnalysis/Hercules/24um/Hercules-99478-24-1Comp-galfit-out.fits\n",
        "\n",
        " sersic    : (   21.80,    21.82)   15.79      2.44    0.62    0.68   -20.69\n",
        "             (    0.06,     0.10)    0.05      0.15    0.08    0.03     5.95\n",
        " sky       : [ 21.00,  21.00]  -4.50e-03  [0.00e+00]  [0.00e+00]\n",
        "                                1.67e-03  [0.00e+00]  [0.00e+00]\n",
        " Chi^2 = 6897.92378,  ndof = 1594\n",
        " Chi^2/nu = 4.327\n",
        "\n",
        "-----------------------------------------------------------------------------\n",
        "here is what I have for diskflag[i] = "
       ]
      },
      {
       "output_type": "stream",
       "stream": "stdout",
       "text": [
        " [1 0 0 0 0 0]\n",
        "/Users/rfinn/research/LocalClusters/GalfitAnalysis/Hercules/24um/Hercules-99478-24-1Comp-subcomps.fits[2] -> /Users/rfinn/research/LocalClusters/GalfitAnalysis/Hercules/24um/Hercules-99478-24-diskimage-1Comp.fits\n"
       ]
      },
      {
       "output_type": "stream",
       "stream": "stdout",
       "text": [
        "model_mag =  [ 15.79]\n",
        "total mag =  15.79\n",
        "add /Users/rfinn/research/LocalClusters/GalfitAnalysis/Hercules/24um/Hercules-99478-24-diskimage-1Comp.fits,MAG_TOTAL = 15.79\n",
        "/Users/rfinn/research/LocalClusters/GalfitAnalysis/Hercules/24um/Hercules-99478-24-diskimage-1Comp.fits updated\n"
       ]
      },
      {
       "output_type": "stream",
       "stream": "stdout",
       "text": [
        "add /Users/rfinn/research/LocalClusters/GalfitAnalysis/Hercules/24um/Hercules-99478-24-diskimage-1Comp.fits,COMPONENT_FLAG = 1\n",
        "/Users/rfinn/research/LocalClusters/GalfitAnalysis/Hercules/24um/Hercules-99478-24-diskimage-1Comp.fits updated\n"
       ]
      },
      {
       "output_type": "stream",
       "stream": "stdout",
       "text": [
        "*******************\n",
        "*******************\n",
        "*******************\n",
        "\n",
        "running galfit analysis for MIPS image of  Hercules - 99495\n",
        "snr24 =  12.2\n",
        "\n",
        " output image already exists \n",
        "\n",
        "/Users/rfinn/research/LocalClusters/GalfitAnalysis/Hercules/24um/Hercules-99495-24-fixedBA-1Comp-galfit-out.fits\n"
       ]
      },
      {
       "name": "stdout",
       "output_type": "stream",
       "stream": "stdout",
       "text": [
        "Run galfit again?  y (or any key)=yes n=no x=quit \n",
        "y\n"
       ]
      },
      {
       "output_type": "stream",
       "stream": "stdout",
       "text": [
        "running galfit again - hope that is what you want!\n",
        "/Users/rfinn/research/LocalClusters/GalfitAnalysis/Hercules/24um/Hercules-99495-24-fixedBA-1Comp-galfit-out.fits\n",
        "convflag, fitBA, fitPA =  True False False\n",
        "###############\n",
        "just inside keep_BA_fixed\n",
        "fitBAflag, fitPAflag, convflag =  0 0 True\n",
        "deleting outcoords if it exists\n",
        "/Users/rfinn/research/LocalClusters/GalfitAnalysis/Hercules/24um/incoords /Users/rfinn/research/LocalClusters/GalfitAnalysis/Hercules/24um\n"
       ]
      },
      {
       "output_type": "stream",
       "stream": "stderr",
       "text": [
        "Killing IRAF task `imgets'\n"
       ]
      },
      {
       "output_type": "stream",
       "stream": "stdout",
       "text": [
        "54.0 54.0\n",
        "xcenter, ycenter = "
       ]
      },
      {
       "output_type": "stream",
       "stream": "stdout",
       "text": [
        " 27.0 27.0\n",
        "objIndex =  (array([0]),) [  0.42264051  14.30658813  27.88930003  32.37833685  18.17930717\n",
        "  35.08993203  25.23378935  17.63507553  17.77039381  28.0298127\n",
        "  27.94926949  15.66737298  26.21701526  11.31329894  24.49278261\n",
        "  18.16511186  35.79668187  11.32897987  19.49959225  13.5246631\n",
        "  22.05039909  16.25585387  22.05162271  26.8177882   21.51412341\n",
        "  25.70788828  10.01320109  30.17947491  24.22712942  32.72310804\n",
        "   8.80569889  23.55134752  33.44508634  17.69785569  13.21947715\n",
        "   8.69762801  11.41504661  11.5292328   10.60662585  23.95046524\n",
        "   6.65355431   9.583       31.27680011  30.5274222   26.30688309\n",
        "  17.86326387]\n",
        "object number =  1\n",
        "elliptical = "
       ]
      },
      {
       "output_type": "stream",
       "stream": "stdout",
       "text": [
        " False\n",
        "spiral =  False\n",
        "agn =  False\n"
       ]
      },
      {
       "name": "stdout",
       "output_type": "stream",
       "stream": "stdout",
       "text": [
        "hit any key when ready to continue (q to quit) \n",
        "q\n"
       ]
      },
      {
       "output_type": "stream",
       "stream": "stdout",
       "text": [
        "running for mips galaxies!\n",
        "/Users/rfinn/research/LocalClusters/GalfitAnalysis/Hercules/24um/Hercules-99495-24-1Comp-galfit-out.fits\n",
        "file to display =  /Users/rfinn/research/LocalClusters/GalfitAnalysis/Hercules/24um/Hercules-99495-24-1Comp-galfit-out.fits\n",
        "2"
       ]
      },
      {
       "output_type": "stream",
       "stream": "stdout",
       "text": [
        "\n",
        "3"
       ]
      },
      {
       "output_type": "stream",
       "stream": "stdout",
       "text": [
        "\n",
        "4"
       ]
      },
      {
       "output_type": "stream",
       "stream": "stdout",
       "text": [
        "\n",
        "file to display =  /Users/rfinn/research/LocalClusters/GalfitAnalysis/Hercules/24um/Hercules-99495-24-1Comp-subcomps.fits\n",
        "-----------------------------------------------------------------------------"
       ]
      },
      {
       "output_type": "stream",
       "stream": "stdout",
       "text": [
        "\n",
        "\n",
        "Input image     : Hercules-99495-galfit-cutout24.fits[1:53,1:53]\n",
        "Init. par. file : /Users/rfinn/research/LocalClusters/GalfitAnalysis/Hercules/24um/galfit.input.1Comp\n",
        "Restart file    : galfit.01\n",
        "Output image    : /Users/rfinn/research/LocalClusters/GalfitAnalysis/Hercules/24um/Hercules-99495-24-1Comp-galfit-out.fits\n",
        "\n",
        " sersic    : (   27.21,    27.80)   14.91      2.16    1.15    0.86    25.23\n",
        "             (    0.02,     0.03)    0.03      0.09    0.06    0.02     7.24\n",
        " sky       : [ 27.00,  27.00]  -5.67e-03  [0.00e+00]  [0.00e+00]\n",
        "                                1.24e-03  [0.00e+00]  [0.00e+00]\n",
        " Chi^2 = 11262.44860,  ndof = 2631\n",
        " Chi^2/nu = 4.281\n",
        "\n",
        "-----------------------------------------------------------------------------\n",
        "here is what I have for diskflag[i] = "
       ]
      },
      {
       "output_type": "stream",
       "stream": "stdout",
       "text": [
        " [1 0 0 0 0 0]\n",
        "/Users/rfinn/research/LocalClusters/GalfitAnalysis/Hercules/24um/Hercules-99495-24-1Comp-subcomps.fits[2] -> /Users/rfinn/research/LocalClusters/GalfitAnalysis/Hercules/24um/Hercules-99495-24-diskimage-1Comp.fits\n"
       ]
      },
      {
       "output_type": "stream",
       "stream": "stdout",
       "text": [
        "model_mag =  [ 14.91]\n",
        "total mag =  14.91\n",
        "add /Users/rfinn/research/LocalClusters/GalfitAnalysis/Hercules/24um/Hercules-99495-24-diskimage-1Comp.fits,MAG_TOTAL = 14.91\n",
        "/Users/rfinn/research/LocalClusters/GalfitAnalysis/Hercules/24um/Hercules-99495-24-diskimage-1Comp.fits updated\n"
       ]
      },
      {
       "output_type": "stream",
       "stream": "stdout",
       "text": [
        "add /Users/rfinn/research/LocalClusters/GalfitAnalysis/Hercules/24um/Hercules-99495-24-diskimage-1Comp.fits,COMPONENT_FLAG = 1\n",
        "/Users/rfinn/research/LocalClusters/GalfitAnalysis/Hercules/24um/Hercules-99495-24-diskimage-1Comp.fits updated\n"
       ]
      },
      {
       "output_type": "stream",
       "stream": "stdout",
       "text": [
        "*******************\n",
        "*******************\n",
        "*******************\n",
        "\n",
        "running galfit analysis for MIPS image of  Hercules - 99499\n",
        "snr24 =  3.61\n",
        "\n",
        " output image already exists \n",
        "\n",
        "/Users/rfinn/research/LocalClusters/GalfitAnalysis/Hercules/24um/Hercules-99499-24-fixedBA-1Comp-galfit-out.fits\n"
       ]
      },
      {
       "name": "stdout",
       "output_type": "stream",
       "stream": "stdout",
       "text": [
        "Run galfit again?  y (or any key)=yes n=no x=quit \n",
        "x\n"
       ]
      },
      {
       "output_type": "stream",
       "stream": "stdout",
       "text": [
        "I think you want to quit\n"
       ]
      }
     ],
     "prompt_number": 7
    },
    {
     "cell_type": "markdown",
     "metadata": {},
     "source": [
      "When finished, run \n",
      "\n",
      "    LCSmergespiralcats.py\n",
      "    \n",
      "This made a sizeable difference for Hercules.  I also redid the galaxies in A2052, but this made much less difference, and so I went with using the point source from the scan rather than the mips PRF.\n",
      "\n",
      "** I will need to rerun A2052 using the correct PRF, but not today! **"
     ]
    },
    {
     "cell_type": "code",
     "collapsed": false,
     "input": [],
     "language": "python",
     "metadata": {},
     "outputs": []
    }
   ],
   "metadata": {}
  }
 ]
}