{
 "metadata": {
  "name": "",
  "signature": "sha256:ff6dd809bf2c48036665b02dc8b4f7a2dc257c40f05ad60e6cd2657d31091bf4"
 },
 "nbformat": 3,
 "nbformat_minor": 0,
 "worksheets": []
}